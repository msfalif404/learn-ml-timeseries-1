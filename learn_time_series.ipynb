{
 "cells": [
  {
   "cell_type": "markdown",
   "id": "1ef7d086",
   "metadata": {
    "papermill": {
     "duration": 0.01092,
     "end_time": "2024-08-31T15:29:47.976164",
     "exception": false,
     "start_time": "2024-08-31T15:29:47.965244",
     "status": "completed"
    },
    "tags": []
   },
   "source": [
    "# Learn Time Series Basic With Machine Learning Approach"
   ]
  },
  {
   "cell_type": "markdown",
   "id": "44188bef",
   "metadata": {
    "papermill": {
     "duration": 0.009504,
     "end_time": "2024-08-31T15:29:47.995675",
     "exception": false,
     "start_time": "2024-08-31T15:29:47.986171",
     "status": "completed"
    },
    "tags": []
   },
   "source": [
    "## Part I"
   ]
  },
  {
   "cell_type": "code",
   "execution_count": 1,
   "id": "a476f2f9",
   "metadata": {
    "_cell_guid": "b1076dfc-b9ad-4769-8c92-a6c4dae69d19",
    "_uuid": "8f2839f25d086af736a60e9eeb907d3b93b6e0e5",
    "execution": {
     "iopub.execute_input": "2024-08-31T15:29:48.016154Z",
     "iopub.status.busy": "2024-08-31T15:29:48.015861Z",
     "iopub.status.idle": "2024-08-31T15:29:50.101521Z",
     "shell.execute_reply": "2024-08-31T15:29:50.100541Z"
    },
    "papermill": {
     "duration": 2.098498,
     "end_time": "2024-08-31T15:29:50.103870",
     "exception": false,
     "start_time": "2024-08-31T15:29:48.005372",
     "status": "completed"
    },
    "tags": []
   },
   "outputs": [],
   "source": [
    "import numpy as np\n",
    "import pandas as pd\n",
    "import matplotlib.pyplot as plt\n",
    "import seaborn as sns"
   ]
  },
  {
   "cell_type": "code",
   "execution_count": 2,
   "id": "e8c9b00b",
   "metadata": {
    "execution": {
     "iopub.execute_input": "2024-08-31T15:29:50.127163Z",
     "iopub.status.busy": "2024-08-31T15:29:50.126382Z",
     "iopub.status.idle": "2024-08-31T15:29:52.515742Z",
     "shell.execute_reply": "2024-08-31T15:29:52.513905Z"
    },
    "papermill": {
     "duration": 2.404051,
     "end_time": "2024-08-31T15:29:52.519037",
     "exception": false,
     "start_time": "2024-08-31T15:29:50.114986",
     "status": "completed"
    },
    "tags": []
   },
   "outputs": [
    {
     "data": {
      "text/html": [
       "<div>\n",
       "<style scoped>\n",
       "    .dataframe tbody tr th:only-of-type {\n",
       "        vertical-align: middle;\n",
       "    }\n",
       "\n",
       "    .dataframe tbody tr th {\n",
       "        vertical-align: top;\n",
       "    }\n",
       "\n",
       "    .dataframe thead th {\n",
       "        text-align: right;\n",
       "    }\n",
       "</style>\n",
       "<table border=\"1\" class=\"dataframe\">\n",
       "  <thead>\n",
       "    <tr style=\"text-align: right;\">\n",
       "      <th></th>\n",
       "      <th>LCLid</th>\n",
       "      <th>Date</th>\n",
       "      <th>KWH</th>\n",
       "    </tr>\n",
       "  </thead>\n",
       "  <tbody>\n",
       "    <tr>\n",
       "      <th>0</th>\n",
       "      <td>MAC000002</td>\n",
       "      <td>2012-10-12</td>\n",
       "      <td>7.098</td>\n",
       "    </tr>\n",
       "    <tr>\n",
       "      <th>1</th>\n",
       "      <td>MAC000002</td>\n",
       "      <td>2012-10-13</td>\n",
       "      <td>11.087</td>\n",
       "    </tr>\n",
       "    <tr>\n",
       "      <th>2</th>\n",
       "      <td>MAC000002</td>\n",
       "      <td>2012-10-14</td>\n",
       "      <td>13.223</td>\n",
       "    </tr>\n",
       "  </tbody>\n",
       "</table>\n",
       "</div>"
      ],
      "text/plain": [
       "       LCLid        Date     KWH\n",
       "0  MAC000002  2012-10-12   7.098\n",
       "1  MAC000002  2012-10-13  11.087\n",
       "2  MAC000002  2012-10-14  13.223"
      ]
     },
     "execution_count": 2,
     "metadata": {},
     "output_type": "execute_result"
    }
   ],
   "source": [
    "df = pd.read_csv('/kaggle/input/london-homes-energy-data/london_energy.csv')\n",
    "df.head(3)"
   ]
  },
  {
   "cell_type": "code",
   "execution_count": 3,
   "id": "b6f69156",
   "metadata": {
    "execution": {
     "iopub.execute_input": "2024-08-31T15:29:52.551671Z",
     "iopub.status.busy": "2024-08-31T15:29:52.550271Z",
     "iopub.status.idle": "2024-08-31T15:29:52.575409Z",
     "shell.execute_reply": "2024-08-31T15:29:52.573517Z"
    },
    "papermill": {
     "duration": 0.044606,
     "end_time": "2024-08-31T15:29:52.579058",
     "exception": false,
     "start_time": "2024-08-31T15:29:52.534452",
     "status": "completed"
    },
    "tags": []
   },
   "outputs": [
    {
     "name": "stdout",
     "output_type": "stream",
     "text": [
      "<class 'pandas.core.frame.DataFrame'>\n",
      "RangeIndex: 3510433 entries, 0 to 3510432\n",
      "Data columns (total 3 columns):\n",
      " #   Column  Dtype  \n",
      "---  ------  -----  \n",
      " 0   LCLid   object \n",
      " 1   Date    object \n",
      " 2   KWH     float64\n",
      "dtypes: float64(1), object(2)\n",
      "memory usage: 80.3+ MB\n"
     ]
    }
   ],
   "source": [
    "df.info()"
   ]
  },
  {
   "cell_type": "code",
   "execution_count": 4,
   "id": "cfdab534",
   "metadata": {
    "execution": {
     "iopub.execute_input": "2024-08-31T15:29:52.604851Z",
     "iopub.status.busy": "2024-08-31T15:29:52.604543Z",
     "iopub.status.idle": "2024-08-31T15:29:53.266257Z",
     "shell.execute_reply": "2024-08-31T15:29:53.265299Z"
    },
    "papermill": {
     "duration": 0.675175,
     "end_time": "2024-08-31T15:29:53.268346",
     "exception": false,
     "start_time": "2024-08-31T15:29:52.593171",
     "status": "completed"
    },
    "tags": []
   },
   "outputs": [
    {
     "data": {
      "text/plain": [
       "LCLid    0\n",
       "Date     0\n",
       "KWH      0\n",
       "dtype: int64"
      ]
     },
     "execution_count": 4,
     "metadata": {},
     "output_type": "execute_result"
    }
   ],
   "source": [
    "df.isnull().sum()"
   ]
  },
  {
   "cell_type": "code",
   "execution_count": 5,
   "id": "eb416b93",
   "metadata": {
    "execution": {
     "iopub.execute_input": "2024-08-31T15:29:53.291792Z",
     "iopub.status.busy": "2024-08-31T15:29:53.291483Z",
     "iopub.status.idle": "2024-08-31T15:29:53.694875Z",
     "shell.execute_reply": "2024-08-31T15:29:53.693907Z"
    },
    "papermill": {
     "duration": 0.417467,
     "end_time": "2024-08-31T15:29:53.696935",
     "exception": false,
     "start_time": "2024-08-31T15:29:53.279468",
     "status": "completed"
    },
    "tags": []
   },
   "outputs": [
    {
     "data": {
      "text/html": [
       "<div>\n",
       "<style scoped>\n",
       "    .dataframe tbody tr th:only-of-type {\n",
       "        vertical-align: middle;\n",
       "    }\n",
       "\n",
       "    .dataframe tbody tr th {\n",
       "        vertical-align: top;\n",
       "    }\n",
       "\n",
       "    .dataframe thead th {\n",
       "        text-align: right;\n",
       "    }\n",
       "</style>\n",
       "<table border=\"1\" class=\"dataframe\">\n",
       "  <thead>\n",
       "    <tr style=\"text-align: right;\">\n",
       "      <th></th>\n",
       "      <th>date</th>\n",
       "      <th>consumption</th>\n",
       "    </tr>\n",
       "  </thead>\n",
       "  <tbody>\n",
       "    <tr>\n",
       "      <th>0</th>\n",
       "      <td>2011-11-23</td>\n",
       "      <td>6.952692</td>\n",
       "    </tr>\n",
       "    <tr>\n",
       "      <th>1</th>\n",
       "      <td>2011-11-24</td>\n",
       "      <td>8.536480</td>\n",
       "    </tr>\n",
       "    <tr>\n",
       "      <th>2</th>\n",
       "      <td>2011-11-25</td>\n",
       "      <td>9.499781</td>\n",
       "    </tr>\n",
       "    <tr>\n",
       "      <th>3</th>\n",
       "      <td>2011-11-26</td>\n",
       "      <td>10.267707</td>\n",
       "    </tr>\n",
       "    <tr>\n",
       "      <th>4</th>\n",
       "      <td>2011-11-27</td>\n",
       "      <td>10.850805</td>\n",
       "    </tr>\n",
       "    <tr>\n",
       "      <th>...</th>\n",
       "      <td>...</td>\n",
       "      <td>...</td>\n",
       "    </tr>\n",
       "    <tr>\n",
       "      <th>824</th>\n",
       "      <td>2014-02-24</td>\n",
       "      <td>10.411403</td>\n",
       "    </tr>\n",
       "    <tr>\n",
       "      <th>825</th>\n",
       "      <td>2014-02-25</td>\n",
       "      <td>10.294997</td>\n",
       "    </tr>\n",
       "    <tr>\n",
       "      <th>826</th>\n",
       "      <td>2014-02-26</td>\n",
       "      <td>10.202945</td>\n",
       "    </tr>\n",
       "    <tr>\n",
       "      <th>827</th>\n",
       "      <td>2014-02-27</td>\n",
       "      <td>10.356350</td>\n",
       "    </tr>\n",
       "    <tr>\n",
       "      <th>828</th>\n",
       "      <td>2014-02-28</td>\n",
       "      <td>0.417993</td>\n",
       "    </tr>\n",
       "  </tbody>\n",
       "</table>\n",
       "<p>829 rows × 2 columns</p>\n",
       "</div>"
      ],
      "text/plain": [
       "          date  consumption\n",
       "0   2011-11-23     6.952692\n",
       "1   2011-11-24     8.536480\n",
       "2   2011-11-25     9.499781\n",
       "3   2011-11-26    10.267707\n",
       "4   2011-11-27    10.850805\n",
       "..         ...          ...\n",
       "824 2014-02-24    10.411403\n",
       "825 2014-02-25    10.294997\n",
       "826 2014-02-26    10.202945\n",
       "827 2014-02-27    10.356350\n",
       "828 2014-02-28     0.417993\n",
       "\n",
       "[829 rows x 2 columns]"
      ]
     },
     "execution_count": 5,
     "metadata": {},
     "output_type": "execute_result"
    }
   ],
   "source": [
    "df_avg_consumption = df.groupby('Date')['KWH'].mean()\n",
    "df_avg_consumption = pd.DataFrame({\n",
    "    'date': df_avg_consumption.index.tolist(),\n",
    "    'consumption': df_avg_consumption.values.tolist()\n",
    "})\n",
    "df_avg_consumption['date'] = pd.to_datetime(df_avg_consumption['date'])\n",
    "df_avg_consumption"
   ]
  },
  {
   "cell_type": "code",
   "execution_count": 6,
   "id": "6b3a158c",
   "metadata": {
    "execution": {
     "iopub.execute_input": "2024-08-31T15:29:53.719888Z",
     "iopub.status.busy": "2024-08-31T15:29:53.719589Z",
     "iopub.status.idle": "2024-08-31T15:29:53.726275Z",
     "shell.execute_reply": "2024-08-31T15:29:53.725418Z"
    },
    "papermill": {
     "duration": 0.020379,
     "end_time": "2024-08-31T15:29:53.728502",
     "exception": false,
     "start_time": "2024-08-31T15:29:53.708123",
     "status": "completed"
    },
    "tags": []
   },
   "outputs": [
    {
     "data": {
      "text/plain": [
       "(Timestamp('2011-11-23 00:00:00'), Timestamp('2014-02-28 00:00:00'))"
      ]
     },
     "execution_count": 6,
     "metadata": {},
     "output_type": "execute_result"
    }
   ],
   "source": [
    "df_avg_consumption['date'].min(), df_avg_consumption['date'].max()"
   ]
  },
  {
   "cell_type": "code",
   "execution_count": 7,
   "id": "9a49dc0e",
   "metadata": {
    "execution": {
     "iopub.execute_input": "2024-08-31T15:29:53.751613Z",
     "iopub.status.busy": "2024-08-31T15:29:53.751254Z",
     "iopub.status.idle": "2024-08-31T15:29:54.283602Z",
     "shell.execute_reply": "2024-08-31T15:29:54.282767Z"
    },
    "papermill": {
     "duration": 0.54616,
     "end_time": "2024-08-31T15:29:54.285901",
     "exception": false,
     "start_time": "2024-08-31T15:29:53.739741",
     "status": "completed"
    },
    "tags": []
   },
   "outputs": [
    {
     "data": {
      "text/plain": [
       "<Axes: xlabel='date'>"
      ]
     },
     "execution_count": 7,
     "metadata": {},
     "output_type": "execute_result"
    },
    {
     "data": {
      "image/png": "[encoded data removed]",
      "text/plain": [
       "<Figure size 640x480 with 1 Axes>"
      ]
     },
     "metadata": {},
     "output_type": "display_data"
    }
   ],
   "source": [
    "df_avg_consumption.plot(x='date',y='consumption')"
   ]
  },
  {
   "cell_type": "code",
   "execution_count": 8,
   "id": "03da90fa",
   "metadata": {
    "execution": {
     "iopub.execute_input": "2024-08-31T15:29:54.310816Z",
     "iopub.status.busy": "2024-08-31T15:29:54.310510Z",
     "iopub.status.idle": "2024-08-31T15:29:54.923791Z",
     "shell.execute_reply": "2024-08-31T15:29:54.922798Z"
    },
    "papermill": {
     "duration": 0.628192,
     "end_time": "2024-08-31T15:29:54.925941",
     "exception": false,
     "start_time": "2024-08-31T15:29:54.297749",
     "status": "completed"
    },
    "tags": []
   },
   "outputs": [
    {
     "data": {
      "text/plain": [
       "<Axes: xlabel='date'>"
      ]
     },
     "execution_count": 8,
     "metadata": {},
     "output_type": "execute_result"
    },
    {
     "data": {
      "image/png": "[encoded data removed]",
      "text/plain": [
       "<Figure size 640x480 with 1 Axes>"
      ]
     },
     "metadata": {},
     "output_type": "display_data"
    }
   ],
   "source": [
    "df_avg_consumption.query(\"date > '2012-01-01' & date < '2013-01-01'\").plot(x=\"date\", y=\"consumption\")"
   ]
  },
  {
   "cell_type": "code",
   "execution_count": 9,
   "id": "5517b519",
   "metadata": {
    "execution": {
     "iopub.execute_input": "2024-08-31T15:29:54.952483Z",
     "iopub.status.busy": "2024-08-31T15:29:54.952138Z",
     "iopub.status.idle": "2024-08-31T15:29:54.984746Z",
     "shell.execute_reply": "2024-08-31T15:29:54.983774Z"
    },
    "papermill": {
     "duration": 0.047922,
     "end_time": "2024-08-31T15:29:54.986941",
     "exception": false,
     "start_time": "2024-08-31T15:29:54.939019",
     "status": "completed"
    },
    "tags": []
   },
   "outputs": [
    {
     "data": {
      "text/html": [
       "<div>\n",
       "<style scoped>\n",
       "    .dataframe tbody tr th:only-of-type {\n",
       "        vertical-align: middle;\n",
       "    }\n",
       "\n",
       "    .dataframe tbody tr th {\n",
       "        vertical-align: top;\n",
       "    }\n",
       "\n",
       "    .dataframe thead th {\n",
       "        text-align: right;\n",
       "    }\n",
       "</style>\n",
       "<table border=\"1\" class=\"dataframe\">\n",
       "  <thead>\n",
       "    <tr style=\"text-align: right;\">\n",
       "      <th></th>\n",
       "      <th>date</th>\n",
       "      <th>consumption</th>\n",
       "      <th>day_of_week</th>\n",
       "      <th>day_of_year</th>\n",
       "      <th>month</th>\n",
       "      <th>quarter</th>\n",
       "      <th>year</th>\n",
       "      <th>day_of_week_sin</th>\n",
       "      <th>day_of_week_cos</th>\n",
       "      <th>day_of_year_sin</th>\n",
       "      <th>day_of_year_cos</th>\n",
       "      <th>month_sin</th>\n",
       "      <th>month_cos</th>\n",
       "      <th>quarter_sin</th>\n",
       "      <th>quarter_cos</th>\n",
       "    </tr>\n",
       "  </thead>\n",
       "  <tbody>\n",
       "    <tr>\n",
       "      <th>0</th>\n",
       "      <td>2011-11-23</td>\n",
       "      <td>6.952692</td>\n",
       "      <td>2</td>\n",
       "      <td>327</td>\n",
       "      <td>11</td>\n",
       "      <td>4</td>\n",
       "      <td>2011</td>\n",
       "      <td>0.974928</td>\n",
       "      <td>-0.222521</td>\n",
       "      <td>-0.608477</td>\n",
       "      <td>0.793572</td>\n",
       "      <td>-0.5</td>\n",
       "      <td>0.866025</td>\n",
       "      <td>-2.449294e-16</td>\n",
       "      <td>1.0</td>\n",
       "    </tr>\n",
       "    <tr>\n",
       "      <th>1</th>\n",
       "      <td>2011-11-24</td>\n",
       "      <td>8.536480</td>\n",
       "      <td>3</td>\n",
       "      <td>328</td>\n",
       "      <td>11</td>\n",
       "      <td>4</td>\n",
       "      <td>2011</td>\n",
       "      <td>0.433884</td>\n",
       "      <td>-0.900969</td>\n",
       "      <td>-0.594727</td>\n",
       "      <td>0.803928</td>\n",
       "      <td>-0.5</td>\n",
       "      <td>0.866025</td>\n",
       "      <td>-2.449294e-16</td>\n",
       "      <td>1.0</td>\n",
       "    </tr>\n",
       "    <tr>\n",
       "      <th>2</th>\n",
       "      <td>2011-11-25</td>\n",
       "      <td>9.499781</td>\n",
       "      <td>4</td>\n",
       "      <td>329</td>\n",
       "      <td>11</td>\n",
       "      <td>4</td>\n",
       "      <td>2011</td>\n",
       "      <td>-0.433884</td>\n",
       "      <td>-0.900969</td>\n",
       "      <td>-0.580800</td>\n",
       "      <td>0.814046</td>\n",
       "      <td>-0.5</td>\n",
       "      <td>0.866025</td>\n",
       "      <td>-2.449294e-16</td>\n",
       "      <td>1.0</td>\n",
       "    </tr>\n",
       "  </tbody>\n",
       "</table>\n",
       "</div>"
      ],
      "text/plain": [
       "        date  consumption  day_of_week  day_of_year  month  quarter  year  \\\n",
       "0 2011-11-23     6.952692            2          327     11        4  2011   \n",
       "1 2011-11-24     8.536480            3          328     11        4  2011   \n",
       "2 2011-11-25     9.499781            4          329     11        4  2011   \n",
       "\n",
       "   day_of_week_sin  day_of_week_cos  day_of_year_sin  day_of_year_cos  \\\n",
       "0         0.974928        -0.222521        -0.608477         0.793572   \n",
       "1         0.433884        -0.900969        -0.594727         0.803928   \n",
       "2        -0.433884        -0.900969        -0.580800         0.814046   \n",
       "\n",
       "   month_sin  month_cos   quarter_sin  quarter_cos  \n",
       "0       -0.5   0.866025 -2.449294e-16          1.0  \n",
       "1       -0.5   0.866025 -2.449294e-16          1.0  \n",
       "2       -0.5   0.866025 -2.449294e-16          1.0  "
      ]
     },
     "execution_count": 9,
     "metadata": {},
     "output_type": "execute_result"
    }
   ],
   "source": [
    "df_avg_consumption['day_of_week'] = df_avg_consumption['date'].dt.dayofweek\n",
    "df_avg_consumption['day_of_year'] = df_avg_consumption['date'].dt.dayofyear\n",
    "df_avg_consumption['month'] = df_avg_consumption['date'].dt.month\n",
    "df_avg_consumption['quarter'] = df_avg_consumption['date'].dt.quarter\n",
    "df_avg_consumption['year'] = df_avg_consumption['date'].dt.year\n",
    "\n",
    "# Menggunakan representasi sin/cos untuk fitur siklik\n",
    "# Representasi sin dan cos untuk hari dalam seminggu (0-6)\n",
    "df_avg_consumption['day_of_week_sin'] = np.sin(2 * np.pi * df_avg_consumption['day_of_week'] / 7)\n",
    "df_avg_consumption['day_of_week_cos'] = np.cos(2 * np.pi * df_avg_consumption['day_of_week'] / 7)\n",
    "\n",
    "# Representasi sin dan cos untuk hari dalam setahun (1-365/366)\n",
    "df_avg_consumption['day_of_year_sin'] = np.sin(2 * np.pi * df_avg_consumption['day_of_year'] / 365)\n",
    "df_avg_consumption['day_of_year_cos'] = np.cos(2 * np.pi * df_avg_consumption['day_of_year'] / 365)\n",
    "\n",
    "# Representasi sin dan cos untuk bulan (1-12)\n",
    "df_avg_consumption['month_sin'] = np.sin(2 * np.pi * df_avg_consumption['month'] / 12)\n",
    "df_avg_consumption['month_cos'] = np.cos(2 * np.pi * df_avg_consumption['month'] / 12)\n",
    "\n",
    "# Representasi sin dan cos untuk quarter (1-4)\n",
    "df_avg_consumption['quarter_sin'] = np.sin(2 * np.pi * df_avg_consumption['quarter'] / 4)\n",
    "df_avg_consumption['quarter_cos'] = np.cos(2 * np.pi * df_avg_consumption['quarter'] / 4)\n",
    "\n",
    "df_avg_consumption.head(3)"
   ]
  },
  {
   "cell_type": "code",
   "execution_count": 10,
   "id": "98ec3f57",
   "metadata": {
    "execution": {
     "iopub.execute_input": "2024-08-31T15:29:55.013288Z",
     "iopub.status.busy": "2024-08-31T15:29:55.013017Z",
     "iopub.status.idle": "2024-08-31T15:29:55.021972Z",
     "shell.execute_reply": "2024-08-31T15:29:55.021178Z"
    },
    "papermill": {
     "duration": 0.024147,
     "end_time": "2024-08-31T15:29:55.023869",
     "exception": false,
     "start_time": "2024-08-31T15:29:54.999722",
     "status": "completed"
    },
    "tags": []
   },
   "outputs": [
    {
     "data": {
      "text/plain": [
       "((613, 15), (216, 15))"
      ]
     },
     "execution_count": 10,
     "metadata": {},
     "output_type": "execute_result"
    }
   ],
   "source": [
    "training_mask = df_avg_consumption[\"date\"] < \"2013-07-28\"\n",
    "training_data = df_avg_consumption.loc[training_mask]\n",
    "\n",
    "testing_mask = df_avg_consumption[\"date\"] >= \"2013-07-28\"\n",
    "testing_data = df_avg_consumption.loc[testing_mask]\n",
    "\n",
    "training_data.shape, testing_data.shape"
   ]
  },
  {
   "cell_type": "code",
   "execution_count": 11,
   "id": "8a0c877f",
   "metadata": {
    "execution": {
     "iopub.execute_input": "2024-08-31T15:29:55.050177Z",
     "iopub.status.busy": "2024-08-31T15:29:55.049900Z",
     "iopub.status.idle": "2024-08-31T15:29:55.072534Z",
     "shell.execute_reply": "2024-08-31T15:29:55.071711Z"
    },
    "papermill": {
     "duration": 0.038114,
     "end_time": "2024-08-31T15:29:55.074383",
     "exception": false,
     "start_time": "2024-08-31T15:29:55.036269",
     "status": "completed"
    },
    "tags": []
   },
   "outputs": [
    {
     "data": {
      "text/html": [
       "<div>\n",
       "<style scoped>\n",
       "    .dataframe tbody tr th:only-of-type {\n",
       "        vertical-align: middle;\n",
       "    }\n",
       "\n",
       "    .dataframe tbody tr th {\n",
       "        vertical-align: top;\n",
       "    }\n",
       "\n",
       "    .dataframe thead th {\n",
       "        text-align: right;\n",
       "    }\n",
       "</style>\n",
       "<table border=\"1\" class=\"dataframe\">\n",
       "  <thead>\n",
       "    <tr style=\"text-align: right;\">\n",
       "      <th></th>\n",
       "      <th>date</th>\n",
       "      <th>consumption</th>\n",
       "      <th>day_of_week</th>\n",
       "      <th>day_of_year</th>\n",
       "      <th>month</th>\n",
       "      <th>quarter</th>\n",
       "      <th>year</th>\n",
       "      <th>day_of_week_sin</th>\n",
       "      <th>day_of_week_cos</th>\n",
       "      <th>day_of_year_sin</th>\n",
       "      <th>day_of_year_cos</th>\n",
       "      <th>month_sin</th>\n",
       "      <th>month_cos</th>\n",
       "      <th>quarter_sin</th>\n",
       "      <th>quarter_cos</th>\n",
       "    </tr>\n",
       "  </thead>\n",
       "  <tbody>\n",
       "    <tr>\n",
       "      <th>0</th>\n",
       "      <td>2011-11-23</td>\n",
       "      <td>6.952692</td>\n",
       "      <td>2</td>\n",
       "      <td>327</td>\n",
       "      <td>11</td>\n",
       "      <td>4</td>\n",
       "      <td>2011</td>\n",
       "      <td>0.974928</td>\n",
       "      <td>-0.222521</td>\n",
       "      <td>-0.608477</td>\n",
       "      <td>0.793572</td>\n",
       "      <td>-0.5</td>\n",
       "      <td>0.866025</td>\n",
       "      <td>-2.449294e-16</td>\n",
       "      <td>1.000000e+00</td>\n",
       "    </tr>\n",
       "    <tr>\n",
       "      <th>1</th>\n",
       "      <td>2011-11-24</td>\n",
       "      <td>8.536480</td>\n",
       "      <td>3</td>\n",
       "      <td>328</td>\n",
       "      <td>11</td>\n",
       "      <td>4</td>\n",
       "      <td>2011</td>\n",
       "      <td>0.433884</td>\n",
       "      <td>-0.900969</td>\n",
       "      <td>-0.594727</td>\n",
       "      <td>0.803928</td>\n",
       "      <td>-0.5</td>\n",
       "      <td>0.866025</td>\n",
       "      <td>-2.449294e-16</td>\n",
       "      <td>1.000000e+00</td>\n",
       "    </tr>\n",
       "    <tr>\n",
       "      <th>2</th>\n",
       "      <td>2011-11-25</td>\n",
       "      <td>9.499781</td>\n",
       "      <td>4</td>\n",
       "      <td>329</td>\n",
       "      <td>11</td>\n",
       "      <td>4</td>\n",
       "      <td>2011</td>\n",
       "      <td>-0.433884</td>\n",
       "      <td>-0.900969</td>\n",
       "      <td>-0.580800</td>\n",
       "      <td>0.814046</td>\n",
       "      <td>-0.5</td>\n",
       "      <td>0.866025</td>\n",
       "      <td>-2.449294e-16</td>\n",
       "      <td>1.000000e+00</td>\n",
       "    </tr>\n",
       "    <tr>\n",
       "      <th>3</th>\n",
       "      <td>2011-11-26</td>\n",
       "      <td>10.267707</td>\n",
       "      <td>5</td>\n",
       "      <td>330</td>\n",
       "      <td>11</td>\n",
       "      <td>4</td>\n",
       "      <td>2011</td>\n",
       "      <td>-0.974928</td>\n",
       "      <td>-0.222521</td>\n",
       "      <td>-0.566702</td>\n",
       "      <td>0.823923</td>\n",
       "      <td>-0.5</td>\n",
       "      <td>0.866025</td>\n",
       "      <td>-2.449294e-16</td>\n",
       "      <td>1.000000e+00</td>\n",
       "    </tr>\n",
       "    <tr>\n",
       "      <th>4</th>\n",
       "      <td>2011-11-27</td>\n",
       "      <td>10.850805</td>\n",
       "      <td>6</td>\n",
       "      <td>331</td>\n",
       "      <td>11</td>\n",
       "      <td>4</td>\n",
       "      <td>2011</td>\n",
       "      <td>-0.781831</td>\n",
       "      <td>0.623490</td>\n",
       "      <td>-0.552435</td>\n",
       "      <td>0.833556</td>\n",
       "      <td>-0.5</td>\n",
       "      <td>0.866025</td>\n",
       "      <td>-2.449294e-16</td>\n",
       "      <td>1.000000e+00</td>\n",
       "    </tr>\n",
       "    <tr>\n",
       "      <th>...</th>\n",
       "      <td>...</td>\n",
       "      <td>...</td>\n",
       "      <td>...</td>\n",
       "      <td>...</td>\n",
       "      <td>...</td>\n",
       "      <td>...</td>\n",
       "      <td>...</td>\n",
       "      <td>...</td>\n",
       "      <td>...</td>\n",
       "      <td>...</td>\n",
       "      <td>...</td>\n",
       "      <td>...</td>\n",
       "      <td>...</td>\n",
       "      <td>...</td>\n",
       "      <td>...</td>\n",
       "    </tr>\n",
       "    <tr>\n",
       "      <th>608</th>\n",
       "      <td>2013-07-23</td>\n",
       "      <td>8.221957</td>\n",
       "      <td>1</td>\n",
       "      <td>204</td>\n",
       "      <td>7</td>\n",
       "      <td>3</td>\n",
       "      <td>2013</td>\n",
       "      <td>0.781831</td>\n",
       "      <td>0.623490</td>\n",
       "      <td>-0.361714</td>\n",
       "      <td>-0.932289</td>\n",
       "      <td>-0.5</td>\n",
       "      <td>-0.866025</td>\n",
       "      <td>-1.000000e+00</td>\n",
       "      <td>-1.836970e-16</td>\n",
       "    </tr>\n",
       "    <tr>\n",
       "      <th>609</th>\n",
       "      <td>2013-07-24</td>\n",
       "      <td>7.879713</td>\n",
       "      <td>2</td>\n",
       "      <td>205</td>\n",
       "      <td>7</td>\n",
       "      <td>3</td>\n",
       "      <td>2013</td>\n",
       "      <td>0.974928</td>\n",
       "      <td>-0.222521</td>\n",
       "      <td>-0.377708</td>\n",
       "      <td>-0.925925</td>\n",
       "      <td>-0.5</td>\n",
       "      <td>-0.866025</td>\n",
       "      <td>-1.000000e+00</td>\n",
       "      <td>-1.836970e-16</td>\n",
       "    </tr>\n",
       "    <tr>\n",
       "      <th>610</th>\n",
       "      <td>2013-07-25</td>\n",
       "      <td>7.973942</td>\n",
       "      <td>3</td>\n",
       "      <td>206</td>\n",
       "      <td>7</td>\n",
       "      <td>3</td>\n",
       "      <td>2013</td>\n",
       "      <td>0.433884</td>\n",
       "      <td>-0.900969</td>\n",
       "      <td>-0.393590</td>\n",
       "      <td>-0.919286</td>\n",
       "      <td>-0.5</td>\n",
       "      <td>-0.866025</td>\n",
       "      <td>-1.000000e+00</td>\n",
       "      <td>-1.836970e-16</td>\n",
       "    </tr>\n",
       "    <tr>\n",
       "      <th>611</th>\n",
       "      <td>2013-07-26</td>\n",
       "      <td>7.936592</td>\n",
       "      <td>4</td>\n",
       "      <td>207</td>\n",
       "      <td>7</td>\n",
       "      <td>3</td>\n",
       "      <td>2013</td>\n",
       "      <td>-0.433884</td>\n",
       "      <td>-0.900969</td>\n",
       "      <td>-0.409356</td>\n",
       "      <td>-0.912375</td>\n",
       "      <td>-0.5</td>\n",
       "      <td>-0.866025</td>\n",
       "      <td>-1.000000e+00</td>\n",
       "      <td>-1.836970e-16</td>\n",
       "    </tr>\n",
       "    <tr>\n",
       "      <th>612</th>\n",
       "      <td>2013-07-27</td>\n",
       "      <td>8.073559</td>\n",
       "      <td>5</td>\n",
       "      <td>208</td>\n",
       "      <td>7</td>\n",
       "      <td>3</td>\n",
       "      <td>2013</td>\n",
       "      <td>-0.974928</td>\n",
       "      <td>-0.222521</td>\n",
       "      <td>-0.425000</td>\n",
       "      <td>-0.905193</td>\n",
       "      <td>-0.5</td>\n",
       "      <td>-0.866025</td>\n",
       "      <td>-1.000000e+00</td>\n",
       "      <td>-1.836970e-16</td>\n",
       "    </tr>\n",
       "  </tbody>\n",
       "</table>\n",
       "<p>613 rows × 15 columns</p>\n",
       "</div>"
      ],
      "text/plain": [
       "          date  consumption  day_of_week  day_of_year  month  quarter  year  \\\n",
       "0   2011-11-23     6.952692            2          327     11        4  2011   \n",
       "1   2011-11-24     8.536480            3          328     11        4  2011   \n",
       "2   2011-11-25     9.499781            4          329     11        4  2011   \n",
       "3   2011-11-26    10.267707            5          330     11        4  2011   \n",
       "4   2011-11-27    10.850805            6          331     11        4  2011   \n",
       "..         ...          ...          ...          ...    ...      ...   ...   \n",
       "608 2013-07-23     8.221957            1          204      7        3  2013   \n",
       "609 2013-07-24     7.879713            2          205      7        3  2013   \n",
       "610 2013-07-25     7.973942            3          206      7        3  2013   \n",
       "611 2013-07-26     7.936592            4          207      7        3  2013   \n",
       "612 2013-07-27     8.073559            5          208      7        3  2013   \n",
       "\n",
       "     day_of_week_sin  day_of_week_cos  day_of_year_sin  day_of_year_cos  \\\n",
       "0           0.974928        -0.222521        -0.608477         0.793572   \n",
       "1           0.433884        -0.900969        -0.594727         0.803928   \n",
       "2          -0.433884        -0.900969        -0.580800         0.814046   \n",
       "3          -0.974928        -0.222521        -0.566702         0.823923   \n",
       "4          -0.781831         0.623490        -0.552435         0.833556   \n",
       "..               ...              ...              ...              ...   \n",
       "608         0.781831         0.623490        -0.361714        -0.932289   \n",
       "609         0.974928        -0.222521        -0.377708        -0.925925   \n",
       "610         0.433884        -0.900969        -0.393590        -0.919286   \n",
       "611        -0.433884        -0.900969        -0.409356        -0.912375   \n",
       "612        -0.974928        -0.222521        -0.425000        -0.905193   \n",
       "\n",
       "     month_sin  month_cos   quarter_sin   quarter_cos  \n",
       "0         -0.5   0.866025 -2.449294e-16  1.000000e+00  \n",
       "1         -0.5   0.866025 -2.449294e-16  1.000000e+00  \n",
       "2         -0.5   0.866025 -2.449294e-16  1.000000e+00  \n",
       "3         -0.5   0.866025 -2.449294e-16  1.000000e+00  \n",
       "4         -0.5   0.866025 -2.449294e-16  1.000000e+00  \n",
       "..         ...        ...           ...           ...  \n",
       "608       -0.5  -0.866025 -1.000000e+00 -1.836970e-16  \n",
       "609       -0.5  -0.866025 -1.000000e+00 -1.836970e-16  \n",
       "610       -0.5  -0.866025 -1.000000e+00 -1.836970e-16  \n",
       "611       -0.5  -0.866025 -1.000000e+00 -1.836970e-16  \n",
       "612       -0.5  -0.866025 -1.000000e+00 -1.836970e-16  \n",
       "\n",
       "[613 rows x 15 columns]"
      ]
     },
     "execution_count": 11,
     "metadata": {},
     "output_type": "execute_result"
    }
   ],
   "source": [
    "training_data"
   ]
  },
  {
   "cell_type": "code",
   "execution_count": 12,
   "id": "3fa82964",
   "metadata": {
    "execution": {
     "iopub.execute_input": "2024-08-31T15:29:55.101103Z",
     "iopub.status.busy": "2024-08-31T15:29:55.100825Z",
     "iopub.status.idle": "2024-08-31T15:29:55.123082Z",
     "shell.execute_reply": "2024-08-31T15:29:55.122074Z"
    },
    "papermill": {
     "duration": 0.037718,
     "end_time": "2024-08-31T15:29:55.124995",
     "exception": false,
     "start_time": "2024-08-31T15:29:55.087277",
     "status": "completed"
    },
    "tags": []
   },
   "outputs": [
    {
     "data": {
      "text/html": [
       "<div>\n",
       "<style scoped>\n",
       "    .dataframe tbody tr th:only-of-type {\n",
       "        vertical-align: middle;\n",
       "    }\n",
       "\n",
       "    .dataframe tbody tr th {\n",
       "        vertical-align: top;\n",
       "    }\n",
       "\n",
       "    .dataframe thead th {\n",
       "        text-align: right;\n",
       "    }\n",
       "</style>\n",
       "<table border=\"1\" class=\"dataframe\">\n",
       "  <thead>\n",
       "    <tr style=\"text-align: right;\">\n",
       "      <th></th>\n",
       "      <th>date</th>\n",
       "      <th>consumption</th>\n",
       "      <th>day_of_week</th>\n",
       "      <th>day_of_year</th>\n",
       "      <th>month</th>\n",
       "      <th>quarter</th>\n",
       "      <th>year</th>\n",
       "      <th>day_of_week_sin</th>\n",
       "      <th>day_of_week_cos</th>\n",
       "      <th>day_of_year_sin</th>\n",
       "      <th>day_of_year_cos</th>\n",
       "      <th>month_sin</th>\n",
       "      <th>month_cos</th>\n",
       "      <th>quarter_sin</th>\n",
       "      <th>quarter_cos</th>\n",
       "    </tr>\n",
       "  </thead>\n",
       "  <tbody>\n",
       "    <tr>\n",
       "      <th>613</th>\n",
       "      <td>2013-07-28</td>\n",
       "      <td>8.191859</td>\n",
       "      <td>6</td>\n",
       "      <td>209</td>\n",
       "      <td>7</td>\n",
       "      <td>3</td>\n",
       "      <td>2013</td>\n",
       "      <td>-0.781831</td>\n",
       "      <td>0.623490</td>\n",
       "      <td>-0.440519</td>\n",
       "      <td>-0.897743</td>\n",
       "      <td>-0.500000</td>\n",
       "      <td>-0.866025</td>\n",
       "      <td>-1.0</td>\n",
       "      <td>-1.836970e-16</td>\n",
       "    </tr>\n",
       "    <tr>\n",
       "      <th>614</th>\n",
       "      <td>2013-07-29</td>\n",
       "      <td>7.907554</td>\n",
       "      <td>0</td>\n",
       "      <td>210</td>\n",
       "      <td>7</td>\n",
       "      <td>3</td>\n",
       "      <td>2013</td>\n",
       "      <td>0.000000</td>\n",
       "      <td>1.000000</td>\n",
       "      <td>-0.455907</td>\n",
       "      <td>-0.890028</td>\n",
       "      <td>-0.500000</td>\n",
       "      <td>-0.866025</td>\n",
       "      <td>-1.0</td>\n",
       "      <td>-1.836970e-16</td>\n",
       "    </tr>\n",
       "    <tr>\n",
       "      <th>615</th>\n",
       "      <td>2013-07-30</td>\n",
       "      <td>7.999817</td>\n",
       "      <td>1</td>\n",
       "      <td>211</td>\n",
       "      <td>7</td>\n",
       "      <td>3</td>\n",
       "      <td>2013</td>\n",
       "      <td>0.781831</td>\n",
       "      <td>0.623490</td>\n",
       "      <td>-0.471160</td>\n",
       "      <td>-0.882048</td>\n",
       "      <td>-0.500000</td>\n",
       "      <td>-0.866025</td>\n",
       "      <td>-1.0</td>\n",
       "      <td>-1.836970e-16</td>\n",
       "    </tr>\n",
       "    <tr>\n",
       "      <th>616</th>\n",
       "      <td>2013-07-31</td>\n",
       "      <td>7.959776</td>\n",
       "      <td>2</td>\n",
       "      <td>212</td>\n",
       "      <td>7</td>\n",
       "      <td>3</td>\n",
       "      <td>2013</td>\n",
       "      <td>0.974928</td>\n",
       "      <td>-0.222521</td>\n",
       "      <td>-0.486273</td>\n",
       "      <td>-0.873807</td>\n",
       "      <td>-0.500000</td>\n",
       "      <td>-0.866025</td>\n",
       "      <td>-1.0</td>\n",
       "      <td>-1.836970e-16</td>\n",
       "    </tr>\n",
       "    <tr>\n",
       "      <th>617</th>\n",
       "      <td>2013-08-01</td>\n",
       "      <td>7.913224</td>\n",
       "      <td>3</td>\n",
       "      <td>213</td>\n",
       "      <td>8</td>\n",
       "      <td>3</td>\n",
       "      <td>2013</td>\n",
       "      <td>0.433884</td>\n",
       "      <td>-0.900969</td>\n",
       "      <td>-0.501242</td>\n",
       "      <td>-0.865307</td>\n",
       "      <td>-0.866025</td>\n",
       "      <td>-0.500000</td>\n",
       "      <td>-1.0</td>\n",
       "      <td>-1.836970e-16</td>\n",
       "    </tr>\n",
       "    <tr>\n",
       "      <th>...</th>\n",
       "      <td>...</td>\n",
       "      <td>...</td>\n",
       "      <td>...</td>\n",
       "      <td>...</td>\n",
       "      <td>...</td>\n",
       "      <td>...</td>\n",
       "      <td>...</td>\n",
       "      <td>...</td>\n",
       "      <td>...</td>\n",
       "      <td>...</td>\n",
       "      <td>...</td>\n",
       "      <td>...</td>\n",
       "      <td>...</td>\n",
       "      <td>...</td>\n",
       "      <td>...</td>\n",
       "    </tr>\n",
       "    <tr>\n",
       "      <th>824</th>\n",
       "      <td>2014-02-24</td>\n",
       "      <td>10.411403</td>\n",
       "      <td>0</td>\n",
       "      <td>55</td>\n",
       "      <td>2</td>\n",
       "      <td>1</td>\n",
       "      <td>2014</td>\n",
       "      <td>0.000000</td>\n",
       "      <td>1.000000</td>\n",
       "      <td>0.811539</td>\n",
       "      <td>0.584298</td>\n",
       "      <td>0.866025</td>\n",
       "      <td>0.500000</td>\n",
       "      <td>1.0</td>\n",
       "      <td>6.123234e-17</td>\n",
       "    </tr>\n",
       "    <tr>\n",
       "      <th>825</th>\n",
       "      <td>2014-02-25</td>\n",
       "      <td>10.294997</td>\n",
       "      <td>1</td>\n",
       "      <td>56</td>\n",
       "      <td>2</td>\n",
       "      <td>1</td>\n",
       "      <td>2014</td>\n",
       "      <td>0.781831</td>\n",
       "      <td>0.623490</td>\n",
       "      <td>0.821477</td>\n",
       "      <td>0.570242</td>\n",
       "      <td>0.866025</td>\n",
       "      <td>0.500000</td>\n",
       "      <td>1.0</td>\n",
       "      <td>6.123234e-17</td>\n",
       "    </tr>\n",
       "    <tr>\n",
       "      <th>826</th>\n",
       "      <td>2014-02-26</td>\n",
       "      <td>10.202945</td>\n",
       "      <td>2</td>\n",
       "      <td>57</td>\n",
       "      <td>2</td>\n",
       "      <td>1</td>\n",
       "      <td>2014</td>\n",
       "      <td>0.974928</td>\n",
       "      <td>-0.222521</td>\n",
       "      <td>0.831171</td>\n",
       "      <td>0.556017</td>\n",
       "      <td>0.866025</td>\n",
       "      <td>0.500000</td>\n",
       "      <td>1.0</td>\n",
       "      <td>6.123234e-17</td>\n",
       "    </tr>\n",
       "    <tr>\n",
       "      <th>827</th>\n",
       "      <td>2014-02-27</td>\n",
       "      <td>10.356350</td>\n",
       "      <td>3</td>\n",
       "      <td>58</td>\n",
       "      <td>2</td>\n",
       "      <td>1</td>\n",
       "      <td>2014</td>\n",
       "      <td>0.433884</td>\n",
       "      <td>-0.900969</td>\n",
       "      <td>0.840618</td>\n",
       "      <td>0.541628</td>\n",
       "      <td>0.866025</td>\n",
       "      <td>0.500000</td>\n",
       "      <td>1.0</td>\n",
       "      <td>6.123234e-17</td>\n",
       "    </tr>\n",
       "    <tr>\n",
       "      <th>828</th>\n",
       "      <td>2014-02-28</td>\n",
       "      <td>0.417993</td>\n",
       "      <td>4</td>\n",
       "      <td>59</td>\n",
       "      <td>2</td>\n",
       "      <td>1</td>\n",
       "      <td>2014</td>\n",
       "      <td>-0.433884</td>\n",
       "      <td>-0.900969</td>\n",
       "      <td>0.849817</td>\n",
       "      <td>0.527078</td>\n",
       "      <td>0.866025</td>\n",
       "      <td>0.500000</td>\n",
       "      <td>1.0</td>\n",
       "      <td>6.123234e-17</td>\n",
       "    </tr>\n",
       "  </tbody>\n",
       "</table>\n",
       "<p>216 rows × 15 columns</p>\n",
       "</div>"
      ],
      "text/plain": [
       "          date  consumption  day_of_week  day_of_year  month  quarter  year  \\\n",
       "613 2013-07-28     8.191859            6          209      7        3  2013   \n",
       "614 2013-07-29     7.907554            0          210      7        3  2013   \n",
       "615 2013-07-30     7.999817            1          211      7        3  2013   \n",
       "616 2013-07-31     7.959776            2          212      7        3  2013   \n",
       "617 2013-08-01     7.913224            3          213      8        3  2013   \n",
       "..         ...          ...          ...          ...    ...      ...   ...   \n",
       "824 2014-02-24    10.411403            0           55      2        1  2014   \n",
       "825 2014-02-25    10.294997            1           56      2        1  2014   \n",
       "826 2014-02-26    10.202945            2           57      2        1  2014   \n",
       "827 2014-02-27    10.356350            3           58      2        1  2014   \n",
       "828 2014-02-28     0.417993            4           59      2        1  2014   \n",
       "\n",
       "     day_of_week_sin  day_of_week_cos  day_of_year_sin  day_of_year_cos  \\\n",
       "613        -0.781831         0.623490        -0.440519        -0.897743   \n",
       "614         0.000000         1.000000        -0.455907        -0.890028   \n",
       "615         0.781831         0.623490        -0.471160        -0.882048   \n",
       "616         0.974928        -0.222521        -0.486273        -0.873807   \n",
       "617         0.433884        -0.900969        -0.501242        -0.865307   \n",
       "..               ...              ...              ...              ...   \n",
       "824         0.000000         1.000000         0.811539         0.584298   \n",
       "825         0.781831         0.623490         0.821477         0.570242   \n",
       "826         0.974928        -0.222521         0.831171         0.556017   \n",
       "827         0.433884        -0.900969         0.840618         0.541628   \n",
       "828        -0.433884        -0.900969         0.849817         0.527078   \n",
       "\n",
       "     month_sin  month_cos  quarter_sin   quarter_cos  \n",
       "613  -0.500000  -0.866025         -1.0 -1.836970e-16  \n",
       "614  -0.500000  -0.866025         -1.0 -1.836970e-16  \n",
       "615  -0.500000  -0.866025         -1.0 -1.836970e-16  \n",
       "616  -0.500000  -0.866025         -1.0 -1.836970e-16  \n",
       "617  -0.866025  -0.500000         -1.0 -1.836970e-16  \n",
       "..         ...        ...          ...           ...  \n",
       "824   0.866025   0.500000          1.0  6.123234e-17  \n",
       "825   0.866025   0.500000          1.0  6.123234e-17  \n",
       "826   0.866025   0.500000          1.0  6.123234e-17  \n",
       "827   0.866025   0.500000          1.0  6.123234e-17  \n",
       "828   0.866025   0.500000          1.0  6.123234e-17  \n",
       "\n",
       "[216 rows x 15 columns]"
      ]
     },
     "execution_count": 12,
     "metadata": {},
     "output_type": "execute_result"
    }
   ],
   "source": [
    "testing_data"
   ]
  },
  {
   "cell_type": "code",
   "execution_count": 13,
   "id": "8d029426",
   "metadata": {
    "execution": {
     "iopub.execute_input": "2024-08-31T15:29:55.152652Z",
     "iopub.status.busy": "2024-08-31T15:29:55.152340Z",
     "iopub.status.idle": "2024-08-31T15:29:55.745176Z",
     "shell.execute_reply": "2024-08-31T15:29:55.744236Z"
    },
    "papermill": {
     "duration": 0.609108,
     "end_time": "2024-08-31T15:29:55.747414",
     "exception": false,
     "start_time": "2024-08-31T15:29:55.138306",
     "status": "completed"
    },
    "tags": []
   },
   "outputs": [
    {
     "data": {
      "text/plain": [
       "<Axes: xlabel='date'>"
      ]
     },
     "execution_count": 13,
     "metadata": {},
     "output_type": "execute_result"
    },
    {
     "data": {
      "image/png": "[encoded data removed]",
      "text/plain": [
       "<Figure size 2000x500 with 1 Axes>"
      ]
     },
     "metadata": {},
     "output_type": "display_data"
    }
   ],
   "source": [
    "fig, ax = plt.subplots(figsize=(20,5))\n",
    "training_data.plot(ax=ax, label='Training', x='date', y='consumption')\n",
    "testing_data.plot(ax=ax, label='Testing', x='date', y='consumption')"
   ]
  },
  {
   "cell_type": "code",
   "execution_count": 14,
   "id": "8d1857c1",
   "metadata": {
    "execution": {
     "iopub.execute_input": "2024-08-31T15:29:55.778102Z",
     "iopub.status.busy": "2024-08-31T15:29:55.777808Z",
     "iopub.status.idle": "2024-08-31T15:29:55.789016Z",
     "shell.execute_reply": "2024-08-31T15:29:55.788119Z"
    },
    "papermill": {
     "duration": 0.028495,
     "end_time": "2024-08-31T15:29:55.790898",
     "exception": false,
     "start_time": "2024-08-31T15:29:55.762403",
     "status": "completed"
    },
    "tags": []
   },
   "outputs": [],
   "source": [
    "training_data = training_data.drop(columns=['date'])\n",
    "testing_dates = testing_data['date']\n",
    "testing_data = testing_data.drop(columns=['date'])\n",
    "\n",
    "# Memperbarui X_train dan X_test dengan fitur sin dan cos yang baru\n",
    "X_train = training_data[\n",
    "    [\n",
    "        'day_of_week_sin', 'day_of_week_cos',\n",
    "        'day_of_year_sin', 'day_of_year_cos',\n",
    "        'month_sin', 'month_cos',\n",
    "        'quarter_sin', 'quarter_cos',\n",
    "        'year'  # Kolom year tetap bisa dipertahankan jika ada pengaruh tren tahunan\n",
    "    ]\n",
    "]\n",
    "y_train = training_data['consumption']\n",
    "\n",
    "X_test = testing_data[\n",
    "    [\n",
    "        'day_of_week_sin', 'day_of_week_cos',\n",
    "        'day_of_year_sin', 'day_of_year_cos',\n",
    "        'month_sin', 'month_cos',\n",
    "        'quarter_sin', 'quarter_cos',\n",
    "        'year'\n",
    "    ]\n",
    "]\n",
    "y_test = testing_data['consumption']"
   ]
  },
  {
   "cell_type": "code",
   "execution_count": 15,
   "id": "dc17fb18",
   "metadata": {
    "execution": {
     "iopub.execute_input": "2024-08-31T15:29:55.821371Z",
     "iopub.status.busy": "2024-08-31T15:29:55.820833Z",
     "iopub.status.idle": "2024-08-31T15:29:55.826710Z",
     "shell.execute_reply": "2024-08-31T15:29:55.825848Z"
    },
    "papermill": {
     "duration": 0.023126,
     "end_time": "2024-08-31T15:29:55.828559",
     "exception": false,
     "start_time": "2024-08-31T15:29:55.805433",
     "status": "completed"
    },
    "tags": []
   },
   "outputs": [
    {
     "data": {
      "text/plain": [
       "((613, 9), (613,))"
      ]
     },
     "execution_count": 15,
     "metadata": {},
     "output_type": "execute_result"
    }
   ],
   "source": [
    "X_train.shape, y_train.shape"
   ]
  },
  {
   "cell_type": "code",
   "execution_count": 16,
   "id": "b9aec3c1",
   "metadata": {
    "execution": {
     "iopub.execute_input": "2024-08-31T15:29:55.858787Z",
     "iopub.status.busy": "2024-08-31T15:29:55.858504Z",
     "iopub.status.idle": "2024-08-31T15:29:55.863963Z",
     "shell.execute_reply": "2024-08-31T15:29:55.863131Z"
    },
    "papermill": {
     "duration": 0.022643,
     "end_time": "2024-08-31T15:29:55.865759",
     "exception": false,
     "start_time": "2024-08-31T15:29:55.843116",
     "status": "completed"
    },
    "tags": []
   },
   "outputs": [
    {
     "data": {
      "text/plain": [
       "((216, 9), (216,))"
      ]
     },
     "execution_count": 16,
     "metadata": {},
     "output_type": "execute_result"
    }
   ],
   "source": [
    "X_test.shape, y_test.shape"
   ]
  },
  {
   "cell_type": "code",
   "execution_count": 17,
   "id": "085f0a38",
   "metadata": {
    "execution": {
     "iopub.execute_input": "2024-08-31T15:29:55.896261Z",
     "iopub.status.busy": "2024-08-31T15:29:55.896007Z",
     "iopub.status.idle": "2024-08-31T15:29:55.915594Z",
     "shell.execute_reply": "2024-08-31T15:29:55.914709Z"
    },
    "papermill": {
     "duration": 0.037126,
     "end_time": "2024-08-31T15:29:55.917599",
     "exception": false,
     "start_time": "2024-08-31T15:29:55.880473",
     "status": "completed"
    },
    "tags": []
   },
   "outputs": [
    {
     "data": {
      "text/html": [
       "<div>\n",
       "<style scoped>\n",
       "    .dataframe tbody tr th:only-of-type {\n",
       "        vertical-align: middle;\n",
       "    }\n",
       "\n",
       "    .dataframe tbody tr th {\n",
       "        vertical-align: top;\n",
       "    }\n",
       "\n",
       "    .dataframe thead th {\n",
       "        text-align: right;\n",
       "    }\n",
       "</style>\n",
       "<table border=\"1\" class=\"dataframe\">\n",
       "  <thead>\n",
       "    <tr style=\"text-align: right;\">\n",
       "      <th></th>\n",
       "      <th>day_of_week_sin</th>\n",
       "      <th>day_of_week_cos</th>\n",
       "      <th>day_of_year_sin</th>\n",
       "      <th>day_of_year_cos</th>\n",
       "      <th>month_sin</th>\n",
       "      <th>month_cos</th>\n",
       "      <th>quarter_sin</th>\n",
       "      <th>quarter_cos</th>\n",
       "      <th>year</th>\n",
       "    </tr>\n",
       "  </thead>\n",
       "  <tbody>\n",
       "    <tr>\n",
       "      <th>0</th>\n",
       "      <td>0.974928</td>\n",
       "      <td>-0.222521</td>\n",
       "      <td>-0.608477</td>\n",
       "      <td>0.793572</td>\n",
       "      <td>-0.5</td>\n",
       "      <td>0.866025</td>\n",
       "      <td>-2.449294e-16</td>\n",
       "      <td>1.000000e+00</td>\n",
       "      <td>2011</td>\n",
       "    </tr>\n",
       "    <tr>\n",
       "      <th>1</th>\n",
       "      <td>0.433884</td>\n",
       "      <td>-0.900969</td>\n",
       "      <td>-0.594727</td>\n",
       "      <td>0.803928</td>\n",
       "      <td>-0.5</td>\n",
       "      <td>0.866025</td>\n",
       "      <td>-2.449294e-16</td>\n",
       "      <td>1.000000e+00</td>\n",
       "      <td>2011</td>\n",
       "    </tr>\n",
       "    <tr>\n",
       "      <th>2</th>\n",
       "      <td>-0.433884</td>\n",
       "      <td>-0.900969</td>\n",
       "      <td>-0.580800</td>\n",
       "      <td>0.814046</td>\n",
       "      <td>-0.5</td>\n",
       "      <td>0.866025</td>\n",
       "      <td>-2.449294e-16</td>\n",
       "      <td>1.000000e+00</td>\n",
       "      <td>2011</td>\n",
       "    </tr>\n",
       "    <tr>\n",
       "      <th>3</th>\n",
       "      <td>-0.974928</td>\n",
       "      <td>-0.222521</td>\n",
       "      <td>-0.566702</td>\n",
       "      <td>0.823923</td>\n",
       "      <td>-0.5</td>\n",
       "      <td>0.866025</td>\n",
       "      <td>-2.449294e-16</td>\n",
       "      <td>1.000000e+00</td>\n",
       "      <td>2011</td>\n",
       "    </tr>\n",
       "    <tr>\n",
       "      <th>4</th>\n",
       "      <td>-0.781831</td>\n",
       "      <td>0.623490</td>\n",
       "      <td>-0.552435</td>\n",
       "      <td>0.833556</td>\n",
       "      <td>-0.5</td>\n",
       "      <td>0.866025</td>\n",
       "      <td>-2.449294e-16</td>\n",
       "      <td>1.000000e+00</td>\n",
       "      <td>2011</td>\n",
       "    </tr>\n",
       "    <tr>\n",
       "      <th>...</th>\n",
       "      <td>...</td>\n",
       "      <td>...</td>\n",
       "      <td>...</td>\n",
       "      <td>...</td>\n",
       "      <td>...</td>\n",
       "      <td>...</td>\n",
       "      <td>...</td>\n",
       "      <td>...</td>\n",
       "      <td>...</td>\n",
       "    </tr>\n",
       "    <tr>\n",
       "      <th>608</th>\n",
       "      <td>0.781831</td>\n",
       "      <td>0.623490</td>\n",
       "      <td>-0.361714</td>\n",
       "      <td>-0.932289</td>\n",
       "      <td>-0.5</td>\n",
       "      <td>-0.866025</td>\n",
       "      <td>-1.000000e+00</td>\n",
       "      <td>-1.836970e-16</td>\n",
       "      <td>2013</td>\n",
       "    </tr>\n",
       "    <tr>\n",
       "      <th>609</th>\n",
       "      <td>0.974928</td>\n",
       "      <td>-0.222521</td>\n",
       "      <td>-0.377708</td>\n",
       "      <td>-0.925925</td>\n",
       "      <td>-0.5</td>\n",
       "      <td>-0.866025</td>\n",
       "      <td>-1.000000e+00</td>\n",
       "      <td>-1.836970e-16</td>\n",
       "      <td>2013</td>\n",
       "    </tr>\n",
       "    <tr>\n",
       "      <th>610</th>\n",
       "      <td>0.433884</td>\n",
       "      <td>-0.900969</td>\n",
       "      <td>-0.393590</td>\n",
       "      <td>-0.919286</td>\n",
       "      <td>-0.5</td>\n",
       "      <td>-0.866025</td>\n",
       "      <td>-1.000000e+00</td>\n",
       "      <td>-1.836970e-16</td>\n",
       "      <td>2013</td>\n",
       "    </tr>\n",
       "    <tr>\n",
       "      <th>611</th>\n",
       "      <td>-0.433884</td>\n",
       "      <td>-0.900969</td>\n",
       "      <td>-0.409356</td>\n",
       "      <td>-0.912375</td>\n",
       "      <td>-0.5</td>\n",
       "      <td>-0.866025</td>\n",
       "      <td>-1.000000e+00</td>\n",
       "      <td>-1.836970e-16</td>\n",
       "      <td>2013</td>\n",
       "    </tr>\n",
       "    <tr>\n",
       "      <th>612</th>\n",
       "      <td>-0.974928</td>\n",
       "      <td>-0.222521</td>\n",
       "      <td>-0.425000</td>\n",
       "      <td>-0.905193</td>\n",
       "      <td>-0.5</td>\n",
       "      <td>-0.866025</td>\n",
       "      <td>-1.000000e+00</td>\n",
       "      <td>-1.836970e-16</td>\n",
       "      <td>2013</td>\n",
       "    </tr>\n",
       "  </tbody>\n",
       "</table>\n",
       "<p>613 rows × 9 columns</p>\n",
       "</div>"
      ],
      "text/plain": [
       "     day_of_week_sin  day_of_week_cos  day_of_year_sin  day_of_year_cos  \\\n",
       "0           0.974928        -0.222521        -0.608477         0.793572   \n",
       "1           0.433884        -0.900969        -0.594727         0.803928   \n",
       "2          -0.433884        -0.900969        -0.580800         0.814046   \n",
       "3          -0.974928        -0.222521        -0.566702         0.823923   \n",
       "4          -0.781831         0.623490        -0.552435         0.833556   \n",
       "..               ...              ...              ...              ...   \n",
       "608         0.781831         0.623490        -0.361714        -0.932289   \n",
       "609         0.974928        -0.222521        -0.377708        -0.925925   \n",
       "610         0.433884        -0.900969        -0.393590        -0.919286   \n",
       "611        -0.433884        -0.900969        -0.409356        -0.912375   \n",
       "612        -0.974928        -0.222521        -0.425000        -0.905193   \n",
       "\n",
       "     month_sin  month_cos   quarter_sin   quarter_cos  year  \n",
       "0         -0.5   0.866025 -2.449294e-16  1.000000e+00  2011  \n",
       "1         -0.5   0.866025 -2.449294e-16  1.000000e+00  2011  \n",
       "2         -0.5   0.866025 -2.449294e-16  1.000000e+00  2011  \n",
       "3         -0.5   0.866025 -2.449294e-16  1.000000e+00  2011  \n",
       "4         -0.5   0.866025 -2.449294e-16  1.000000e+00  2011  \n",
       "..         ...        ...           ...           ...   ...  \n",
       "608       -0.5  -0.866025 -1.000000e+00 -1.836970e-16  2013  \n",
       "609       -0.5  -0.866025 -1.000000e+00 -1.836970e-16  2013  \n",
       "610       -0.5  -0.866025 -1.000000e+00 -1.836970e-16  2013  \n",
       "611       -0.5  -0.866025 -1.000000e+00 -1.836970e-16  2013  \n",
       "612       -0.5  -0.866025 -1.000000e+00 -1.836970e-16  2013  \n",
       "\n",
       "[613 rows x 9 columns]"
      ]
     },
     "execution_count": 17,
     "metadata": {},
     "output_type": "execute_result"
    }
   ],
   "source": [
    "X_train"
   ]
  },
  {
   "cell_type": "code",
   "execution_count": 18,
   "id": "1002aae0",
   "metadata": {
    "execution": {
     "iopub.execute_input": "2024-08-31T15:29:55.948846Z",
     "iopub.status.busy": "2024-08-31T15:29:55.948590Z",
     "iopub.status.idle": "2024-08-31T15:29:55.955529Z",
     "shell.execute_reply": "2024-08-31T15:29:55.954629Z"
    },
    "papermill": {
     "duration": 0.025022,
     "end_time": "2024-08-31T15:29:55.957645",
     "exception": false,
     "start_time": "2024-08-31T15:29:55.932623",
     "status": "completed"
    },
    "tags": []
   },
   "outputs": [
    {
     "data": {
      "text/plain": [
       "0       6.952692\n",
       "1       8.536480\n",
       "2       9.499781\n",
       "3      10.267707\n",
       "4      10.850805\n",
       "         ...    \n",
       "608     8.221957\n",
       "609     7.879713\n",
       "610     7.973942\n",
       "611     7.936592\n",
       "612     8.073559\n",
       "Name: consumption, Length: 613, dtype: float64"
      ]
     },
     "execution_count": 18,
     "metadata": {},
     "output_type": "execute_result"
    }
   ],
   "source": [
    "y_train"
   ]
  },
  {
   "cell_type": "code",
   "execution_count": 19,
   "id": "e09632be",
   "metadata": {
    "execution": {
     "iopub.execute_input": "2024-08-31T15:29:55.990771Z",
     "iopub.status.busy": "2024-08-31T15:29:55.990492Z",
     "iopub.status.idle": "2024-08-31T15:29:56.008885Z",
     "shell.execute_reply": "2024-08-31T15:29:56.008025Z"
    },
    "papermill": {
     "duration": 0.036766,
     "end_time": "2024-08-31T15:29:56.010749",
     "exception": false,
     "start_time": "2024-08-31T15:29:55.973983",
     "status": "completed"
    },
    "tags": []
   },
   "outputs": [
    {
     "data": {
      "text/html": [
       "<div>\n",
       "<style scoped>\n",
       "    .dataframe tbody tr th:only-of-type {\n",
       "        vertical-align: middle;\n",
       "    }\n",
       "\n",
       "    .dataframe tbody tr th {\n",
       "        vertical-align: top;\n",
       "    }\n",
       "\n",
       "    .dataframe thead th {\n",
       "        text-align: right;\n",
       "    }\n",
       "</style>\n",
       "<table border=\"1\" class=\"dataframe\">\n",
       "  <thead>\n",
       "    <tr style=\"text-align: right;\">\n",
       "      <th></th>\n",
       "      <th>day_of_week_sin</th>\n",
       "      <th>day_of_week_cos</th>\n",
       "      <th>day_of_year_sin</th>\n",
       "      <th>day_of_year_cos</th>\n",
       "      <th>month_sin</th>\n",
       "      <th>month_cos</th>\n",
       "      <th>quarter_sin</th>\n",
       "      <th>quarter_cos</th>\n",
       "      <th>year</th>\n",
       "    </tr>\n",
       "  </thead>\n",
       "  <tbody>\n",
       "    <tr>\n",
       "      <th>613</th>\n",
       "      <td>-0.781831</td>\n",
       "      <td>0.623490</td>\n",
       "      <td>-0.440519</td>\n",
       "      <td>-0.897743</td>\n",
       "      <td>-0.500000</td>\n",
       "      <td>-0.866025</td>\n",
       "      <td>-1.0</td>\n",
       "      <td>-1.836970e-16</td>\n",
       "      <td>2013</td>\n",
       "    </tr>\n",
       "    <tr>\n",
       "      <th>614</th>\n",
       "      <td>0.000000</td>\n",
       "      <td>1.000000</td>\n",
       "      <td>-0.455907</td>\n",
       "      <td>-0.890028</td>\n",
       "      <td>-0.500000</td>\n",
       "      <td>-0.866025</td>\n",
       "      <td>-1.0</td>\n",
       "      <td>-1.836970e-16</td>\n",
       "      <td>2013</td>\n",
       "    </tr>\n",
       "    <tr>\n",
       "      <th>615</th>\n",
       "      <td>0.781831</td>\n",
       "      <td>0.623490</td>\n",
       "      <td>-0.471160</td>\n",
       "      <td>-0.882048</td>\n",
       "      <td>-0.500000</td>\n",
       "      <td>-0.866025</td>\n",
       "      <td>-1.0</td>\n",
       "      <td>-1.836970e-16</td>\n",
       "      <td>2013</td>\n",
       "    </tr>\n",
       "    <tr>\n",
       "      <th>616</th>\n",
       "      <td>0.974928</td>\n",
       "      <td>-0.222521</td>\n",
       "      <td>-0.486273</td>\n",
       "      <td>-0.873807</td>\n",
       "      <td>-0.500000</td>\n",
       "      <td>-0.866025</td>\n",
       "      <td>-1.0</td>\n",
       "      <td>-1.836970e-16</td>\n",
       "      <td>2013</td>\n",
       "    </tr>\n",
       "    <tr>\n",
       "      <th>617</th>\n",
       "      <td>0.433884</td>\n",
       "      <td>-0.900969</td>\n",
       "      <td>-0.501242</td>\n",
       "      <td>-0.865307</td>\n",
       "      <td>-0.866025</td>\n",
       "      <td>-0.500000</td>\n",
       "      <td>-1.0</td>\n",
       "      <td>-1.836970e-16</td>\n",
       "      <td>2013</td>\n",
       "    </tr>\n",
       "    <tr>\n",
       "      <th>...</th>\n",
       "      <td>...</td>\n",
       "      <td>...</td>\n",
       "      <td>...</td>\n",
       "      <td>...</td>\n",
       "      <td>...</td>\n",
       "      <td>...</td>\n",
       "      <td>...</td>\n",
       "      <td>...</td>\n",
       "      <td>...</td>\n",
       "    </tr>\n",
       "    <tr>\n",
       "      <th>824</th>\n",
       "      <td>0.000000</td>\n",
       "      <td>1.000000</td>\n",
       "      <td>0.811539</td>\n",
       "      <td>0.584298</td>\n",
       "      <td>0.866025</td>\n",
       "      <td>0.500000</td>\n",
       "      <td>1.0</td>\n",
       "      <td>6.123234e-17</td>\n",
       "      <td>2014</td>\n",
       "    </tr>\n",
       "    <tr>\n",
       "      <th>825</th>\n",
       "      <td>0.781831</td>\n",
       "      <td>0.623490</td>\n",
       "      <td>0.821477</td>\n",
       "      <td>0.570242</td>\n",
       "      <td>0.866025</td>\n",
       "      <td>0.500000</td>\n",
       "      <td>1.0</td>\n",
       "      <td>6.123234e-17</td>\n",
       "      <td>2014</td>\n",
       "    </tr>\n",
       "    <tr>\n",
       "      <th>826</th>\n",
       "      <td>0.974928</td>\n",
       "      <td>-0.222521</td>\n",
       "      <td>0.831171</td>\n",
       "      <td>0.556017</td>\n",
       "      <td>0.866025</td>\n",
       "      <td>0.500000</td>\n",
       "      <td>1.0</td>\n",
       "      <td>6.123234e-17</td>\n",
       "      <td>2014</td>\n",
       "    </tr>\n",
       "    <tr>\n",
       "      <th>827</th>\n",
       "      <td>0.433884</td>\n",
       "      <td>-0.900969</td>\n",
       "      <td>0.840618</td>\n",
       "      <td>0.541628</td>\n",
       "      <td>0.866025</td>\n",
       "      <td>0.500000</td>\n",
       "      <td>1.0</td>\n",
       "      <td>6.123234e-17</td>\n",
       "      <td>2014</td>\n",
       "    </tr>\n",
       "    <tr>\n",
       "      <th>828</th>\n",
       "      <td>-0.433884</td>\n",
       "      <td>-0.900969</td>\n",
       "      <td>0.849817</td>\n",
       "      <td>0.527078</td>\n",
       "      <td>0.866025</td>\n",
       "      <td>0.500000</td>\n",
       "      <td>1.0</td>\n",
       "      <td>6.123234e-17</td>\n",
       "      <td>2014</td>\n",
       "    </tr>\n",
       "  </tbody>\n",
       "</table>\n",
       "<p>216 rows × 9 columns</p>\n",
       "</div>"
      ],
      "text/plain": [
       "     day_of_week_sin  day_of_week_cos  day_of_year_sin  day_of_year_cos  \\\n",
       "613        -0.781831         0.623490        -0.440519        -0.897743   \n",
       "614         0.000000         1.000000        -0.455907        -0.890028   \n",
       "615         0.781831         0.623490        -0.471160        -0.882048   \n",
       "616         0.974928        -0.222521        -0.486273        -0.873807   \n",
       "617         0.433884        -0.900969        -0.501242        -0.865307   \n",
       "..               ...              ...              ...              ...   \n",
       "824         0.000000         1.000000         0.811539         0.584298   \n",
       "825         0.781831         0.623490         0.821477         0.570242   \n",
       "826         0.974928        -0.222521         0.831171         0.556017   \n",
       "827         0.433884        -0.900969         0.840618         0.541628   \n",
       "828        -0.433884        -0.900969         0.849817         0.527078   \n",
       "\n",
       "     month_sin  month_cos  quarter_sin   quarter_cos  year  \n",
       "613  -0.500000  -0.866025         -1.0 -1.836970e-16  2013  \n",
       "614  -0.500000  -0.866025         -1.0 -1.836970e-16  2013  \n",
       "615  -0.500000  -0.866025         -1.0 -1.836970e-16  2013  \n",
       "616  -0.500000  -0.866025         -1.0 -1.836970e-16  2013  \n",
       "617  -0.866025  -0.500000         -1.0 -1.836970e-16  2013  \n",
       "..         ...        ...          ...           ...   ...  \n",
       "824   0.866025   0.500000          1.0  6.123234e-17  2014  \n",
       "825   0.866025   0.500000          1.0  6.123234e-17  2014  \n",
       "826   0.866025   0.500000          1.0  6.123234e-17  2014  \n",
       "827   0.866025   0.500000          1.0  6.123234e-17  2014  \n",
       "828   0.866025   0.500000          1.0  6.123234e-17  2014  \n",
       "\n",
       "[216 rows x 9 columns]"
      ]
     },
     "execution_count": 19,
     "metadata": {},
     "output_type": "execute_result"
    }
   ],
   "source": [
    "X_test"
   ]
  },
  {
   "cell_type": "code",
   "execution_count": 20,
   "id": "262fa0b8",
   "metadata": {
    "execution": {
     "iopub.execute_input": "2024-08-31T15:29:56.042763Z",
     "iopub.status.busy": "2024-08-31T15:29:56.042474Z",
     "iopub.status.idle": "2024-08-31T15:29:56.049486Z",
     "shell.execute_reply": "2024-08-31T15:29:56.048415Z"
    },
    "papermill": {
     "duration": 0.025315,
     "end_time": "2024-08-31T15:29:56.051502",
     "exception": false,
     "start_time": "2024-08-31T15:29:56.026187",
     "status": "completed"
    },
    "tags": []
   },
   "outputs": [
    {
     "data": {
      "text/plain": [
       "613     8.191859\n",
       "614     7.907554\n",
       "615     7.999817\n",
       "616     7.959776\n",
       "617     7.913224\n",
       "         ...    \n",
       "824    10.411403\n",
       "825    10.294997\n",
       "826    10.202945\n",
       "827    10.356350\n",
       "828     0.417993\n",
       "Name: consumption, Length: 216, dtype: float64"
      ]
     },
     "execution_count": 20,
     "metadata": {},
     "output_type": "execute_result"
    }
   ],
   "source": [
    "y_test"
   ]
  },
  {
   "cell_type": "code",
   "execution_count": 21,
   "id": "c95a2ed2",
   "metadata": {
    "execution": {
     "iopub.execute_input": "2024-08-31T15:29:56.083640Z",
     "iopub.status.busy": "2024-08-31T15:29:56.083314Z",
     "iopub.status.idle": "2024-08-31T15:29:56.285646Z",
     "shell.execute_reply": "2024-08-31T15:29:56.284853Z"
    },
    "papermill": {
     "duration": 0.220723,
     "end_time": "2024-08-31T15:29:56.287761",
     "exception": false,
     "start_time": "2024-08-31T15:29:56.067038",
     "status": "completed"
    },
    "tags": []
   },
   "outputs": [],
   "source": [
    "from sklearn.metrics import mean_absolute_error, mean_absolute_percentage_error, mean_squared_error\n",
    "\n",
    "def evaluate_model(y_test, prediction):\n",
    "    print(f\"MAE: {mean_absolute_error(y_test, prediction)}\")\n",
    "    print(f\"MAPE: {mean_absolute_percentage_error(y_test, prediction)}\")\n",
    "    print(f\"MSE: {mean_squared_error(y_test, prediction)}\")\n",
    "    \n",
    "def plot_predictions(testing_dates, y_test, prediction):\n",
    "    df_test = pd.DataFrame({\n",
    "        'date': testing_dates,\n",
    "        'actual': y_test,\n",
    "        'prediction': prediction\n",
    "    })\n",
    "    fig, ax = plt.subplots(figsize=(10,5))\n",
    "    df_test.plot(ax=ax, label='Actual', x='date', y='actual')\n",
    "    df_test.plot(ax=ax, label='Prediction', x='date', y='prediction')\n",
    "    plt.legend(['Actual','Prediction'])\n",
    "    plt.show()"
   ]
  },
  {
   "cell_type": "code",
   "execution_count": 22,
   "id": "58949dbc",
   "metadata": {
    "execution": {
     "iopub.execute_input": "2024-08-31T15:29:56.320946Z",
     "iopub.status.busy": "2024-08-31T15:29:56.320661Z",
     "iopub.status.idle": "2024-08-31T15:39:02.462182Z",
     "shell.execute_reply": "2024-08-31T15:39:02.461314Z"
    },
    "papermill": {
     "duration": 546.176481,
     "end_time": "2024-08-31T15:39:02.480314",
     "exception": false,
     "start_time": "2024-08-31T15:29:56.303833",
     "status": "completed"
    },
    "tags": []
   },
   "outputs": [
    {
     "data": {
      "text/html": [
       "<style>#sk-container-id-1 {color: black;background-color: white;}#sk-container-id-1 pre{padding: 0;}#sk-container-id-1 div.sk-toggleable {background-color: white;}#sk-container-id-1 label.sk-toggleable__label {cursor: pointer;display: block;width: 100%;margin-bottom: 0;padding: 0.3em;box-sizing: border-box;text-align: center;}#sk-container-id-1 label.sk-toggleable__label-arrow:before {content: \"▸\";float: left;margin-right: 0.25em;color: #696969;}#sk-container-id-1 label.sk-toggleable__label-arrow:hover:before {color: black;}#sk-container-id-1 div.sk-estimator:hover label.sk-toggleable__label-arrow:before {color: black;}#sk-container-id-1 div.sk-toggleable__content {max-height: 0;max-width: 0;overflow: hidden;text-align: left;background-color: #f0f8ff;}#sk-container-id-1 div.sk-toggleable__content pre {margin: 0.2em;color: black;border-radius: 0.25em;background-color: #f0f8ff;}#sk-container-id-1 input.sk-toggleable__control:checked~div.sk-toggleable__content {max-height: 200px;max-width: 100%;overflow: auto;}#sk-container-id-1 input.sk-toggleable__control:checked~label.sk-toggleable__label-arrow:before {content: \"▾\";}#sk-container-id-1 div.sk-estimator input.sk-toggleable__control:checked~label.sk-toggleable__label {background-color: #d4ebff;}#sk-container-id-1 div.sk-label input.sk-toggleable__control:checked~label.sk-toggleable__label {background-color: #d4ebff;}#sk-container-id-1 input.sk-hidden--visually {border: 0;clip: rect(1px 1px 1px 1px);clip: rect(1px, 1px, 1px, 1px);height: 1px;margin: -1px;overflow: hidden;padding: 0;position: absolute;width: 1px;}#sk-container-id-1 div.sk-estimator {font-family: monospace;background-color: #f0f8ff;border: 1px dotted black;border-radius: 0.25em;box-sizing: border-box;margin-bottom: 0.5em;}#sk-container-id-1 div.sk-estimator:hover {background-color: #d4ebff;}#sk-container-id-1 div.sk-parallel-item::after {content: \"\";width: 100%;border-bottom: 1px solid gray;flex-grow: 1;}#sk-container-id-1 div.sk-label:hover label.sk-toggleable__label {background-color: #d4ebff;}#sk-container-id-1 div.sk-serial::before {content: \"\";position: absolute;border-left: 1px solid gray;box-sizing: border-box;top: 0;bottom: 0;left: 50%;z-index: 0;}#sk-container-id-1 div.sk-serial {display: flex;flex-direction: column;align-items: center;background-color: white;padding-right: 0.2em;padding-left: 0.2em;position: relative;}#sk-container-id-1 div.sk-item {position: relative;z-index: 1;}#sk-container-id-1 div.sk-parallel {display: flex;align-items: stretch;justify-content: center;background-color: white;position: relative;}#sk-container-id-1 div.sk-item::before, #sk-container-id-1 div.sk-parallel-item::before {content: \"\";position: absolute;border-left: 1px solid gray;box-sizing: border-box;top: 0;bottom: 0;left: 50%;z-index: -1;}#sk-container-id-1 div.sk-parallel-item {display: flex;flex-direction: column;z-index: 1;position: relative;background-color: white;}#sk-container-id-1 div.sk-parallel-item:first-child::after {align-self: flex-end;width: 50%;}#sk-container-id-1 div.sk-parallel-item:last-child::after {align-self: flex-start;width: 50%;}#sk-container-id-1 div.sk-parallel-item:only-child::after {width: 0;}#sk-container-id-1 div.sk-dashed-wrapped {border: 1px dashed gray;margin: 0 0.4em 0.5em 0.4em;box-sizing: border-box;padding-bottom: 0.4em;background-color: white;}#sk-container-id-1 div.sk-label label {font-family: monospace;font-weight: bold;display: inline-block;line-height: 1.2em;}#sk-container-id-1 div.sk-label-container {text-align: center;}#sk-container-id-1 div.sk-container {/* jupyter's `normalize.less` sets `[hidden] { display: none; }` but bootstrap.min.css set `[hidden] { display: none !important; }` so we also need the `!important` here to be able to override the default hidden behavior on the sphinx rendered scikit-learn.org. See: https://github.com/scikit-learn/scikit-learn/issues/21755 */display: inline-block !important;position: relative;}#sk-container-id-1 div.sk-text-repr-fallback {display: none;}</style><div id=\"sk-container-id-1\" class=\"sk-top-container\"><div class=\"sk-text-repr-fallback\"><pre>GridSearchCV(cv=TimeSeriesSplit(gap=0, max_train_size=None, n_splits=4, test_size=100),\n",
       "             estimator=XGBRegressor(base_score=None, booster=None,\n",
       "                                    callbacks=None, colsample_bylevel=None,\n",
       "                                    colsample_bynode=None,\n",
       "                                    colsample_bytree=None, device=None,\n",
       "                                    early_stopping_rounds=None,\n",
       "                                    enable_categorical=False, eval_metric=None,\n",
       "                                    feature_types=None, gamma=None,\n",
       "                                    grow_policy=None, impo...\n",
       "                                    max_cat_to_onehot=None, max_delta_step=None,\n",
       "                                    max_depth=None, max_leaves=None,\n",
       "                                    min_child_weight=None, missing=nan,\n",
       "                                    monotone_constraints=None,\n",
       "                                    multi_strategy=None, n_estimators=None,\n",
       "                                    n_jobs=None, num_parallel_tree=None,\n",
       "                                    random_state=None, ...),\n",
       "             param_grid={&#x27;colsample_bytree&#x27;: [0.3, 0.5, 0.7],\n",
       "                         &#x27;learning_rate&#x27;: [0.01, 0.05, 0.1, 0.2, 0.3],\n",
       "                         &#x27;max_depth&#x27;: [3, 4, 5, 6, 7, 10],\n",
       "                         &#x27;n_estimators&#x27;: [100, 300, 500, 700, 900, 1000]})</pre><b>In a Jupyter environment, please rerun this cell to show the HTML representation or trust the notebook. <br />On GitHub, the HTML representation is unable to render, please try loading this page with nbviewer.org.</b></div><div class=\"sk-container\" hidden><div class=\"sk-item sk-dashed-wrapped\"><div class=\"sk-label-container\"><div class=\"sk-label sk-toggleable\"><input class=\"sk-toggleable__control sk-hidden--visually\" id=\"sk-estimator-id-1\" type=\"checkbox\" ><label for=\"sk-estimator-id-1\" class=\"sk-toggleable__label sk-toggleable__label-arrow\">GridSearchCV</label><div class=\"sk-toggleable__content\"><pre>GridSearchCV(cv=TimeSeriesSplit(gap=0, max_train_size=None, n_splits=4, test_size=100),\n",
       "             estimator=XGBRegressor(base_score=None, booster=None,\n",
       "                                    callbacks=None, colsample_bylevel=None,\n",
       "                                    colsample_bynode=None,\n",
       "                                    colsample_bytree=None, device=None,\n",
       "                                    early_stopping_rounds=None,\n",
       "                                    enable_categorical=False, eval_metric=None,\n",
       "                                    feature_types=None, gamma=None,\n",
       "                                    grow_policy=None, impo...\n",
       "                                    max_cat_to_onehot=None, max_delta_step=None,\n",
       "                                    max_depth=None, max_leaves=None,\n",
       "                                    min_child_weight=None, missing=nan,\n",
       "                                    monotone_constraints=None,\n",
       "                                    multi_strategy=None, n_estimators=None,\n",
       "                                    n_jobs=None, num_parallel_tree=None,\n",
       "                                    random_state=None, ...),\n",
       "             param_grid={&#x27;colsample_bytree&#x27;: [0.3, 0.5, 0.7],\n",
       "                         &#x27;learning_rate&#x27;: [0.01, 0.05, 0.1, 0.2, 0.3],\n",
       "                         &#x27;max_depth&#x27;: [3, 4, 5, 6, 7, 10],\n",
       "                         &#x27;n_estimators&#x27;: [100, 300, 500, 700, 900, 1000]})</pre></div></div></div><div class=\"sk-parallel\"><div class=\"sk-parallel-item\"><div class=\"sk-item\"><div class=\"sk-label-container\"><div class=\"sk-label sk-toggleable\"><input class=\"sk-toggleable__control sk-hidden--visually\" id=\"sk-estimator-id-2\" type=\"checkbox\" ><label for=\"sk-estimator-id-2\" class=\"sk-toggleable__label sk-toggleable__label-arrow\">estimator: XGBRegressor</label><div class=\"sk-toggleable__content\"><pre>XGBRegressor(base_score=None, booster=None, callbacks=None,\n",
       "             colsample_bylevel=None, colsample_bynode=None,\n",
       "             colsample_bytree=None, device=None, early_stopping_rounds=None,\n",
       "             enable_categorical=False, eval_metric=None, feature_types=None,\n",
       "             gamma=None, grow_policy=None, importance_type=None,\n",
       "             interaction_constraints=None, learning_rate=None, max_bin=None,\n",
       "             max_cat_threshold=None, max_cat_to_onehot=None,\n",
       "             max_delta_step=None, max_depth=None, max_leaves=None,\n",
       "             min_child_weight=None, missing=nan, monotone_constraints=None,\n",
       "             multi_strategy=None, n_estimators=None, n_jobs=None,\n",
       "             num_parallel_tree=None, random_state=None, ...)</pre></div></div></div><div class=\"sk-serial\"><div class=\"sk-item\"><div class=\"sk-estimator sk-toggleable\"><input class=\"sk-toggleable__control sk-hidden--visually\" id=\"sk-estimator-id-3\" type=\"checkbox\" ><label for=\"sk-estimator-id-3\" class=\"sk-toggleable__label sk-toggleable__label-arrow\">XGBRegressor</label><div class=\"sk-toggleable__content\"><pre>XGBRegressor(base_score=None, booster=None, callbacks=None,\n",
       "             colsample_bylevel=None, colsample_bynode=None,\n",
       "             colsample_bytree=None, device=None, early_stopping_rounds=None,\n",
       "             enable_categorical=False, eval_metric=None, feature_types=None,\n",
       "             gamma=None, grow_policy=None, importance_type=None,\n",
       "             interaction_constraints=None, learning_rate=None, max_bin=None,\n",
       "             max_cat_threshold=None, max_cat_to_onehot=None,\n",
       "             max_delta_step=None, max_depth=None, max_leaves=None,\n",
       "             min_child_weight=None, missing=nan, monotone_constraints=None,\n",
       "             multi_strategy=None, n_estimators=None, n_jobs=None,\n",
       "             num_parallel_tree=None, random_state=None, ...)</pre></div></div></div></div></div></div></div></div></div></div>"
      ],
      "text/plain": [
       "GridSearchCV(cv=TimeSeriesSplit(gap=0, max_train_size=None, n_splits=4, test_size=100),\n",
       "             estimator=XGBRegressor(base_score=None, booster=None,\n",
       "                                    callbacks=None, colsample_bylevel=None,\n",
       "                                    colsample_bynode=None,\n",
       "                                    colsample_bytree=None, device=None,\n",
       "                                    early_stopping_rounds=None,\n",
       "                                    enable_categorical=False, eval_metric=None,\n",
       "                                    feature_types=None, gamma=None,\n",
       "                                    grow_policy=None, impo...\n",
       "                                    max_cat_to_onehot=None, max_delta_step=None,\n",
       "                                    max_depth=None, max_leaves=None,\n",
       "                                    min_child_weight=None, missing=nan,\n",
       "                                    monotone_constraints=None,\n",
       "                                    multi_strategy=None, n_estimators=None,\n",
       "                                    n_jobs=None, num_parallel_tree=None,\n",
       "                                    random_state=None, ...),\n",
       "             param_grid={'colsample_bytree': [0.3, 0.5, 0.7],\n",
       "                         'learning_rate': [0.01, 0.05, 0.1, 0.2, 0.3],\n",
       "                         'max_depth': [3, 4, 5, 6, 7, 10],\n",
       "                         'n_estimators': [100, 300, 500, 700, 900, 1000]})"
      ]
     },
     "execution_count": 22,
     "metadata": {},
     "output_type": "execute_result"
    }
   ],
   "source": [
    "from xgboost import XGBRegressor\n",
    "from lightgbm import LGBMRegressor\n",
    "from sklearn.model_selection import TimeSeriesSplit, GridSearchCV\n",
    "\n",
    "cv_split = TimeSeriesSplit(n_splits=4, test_size=100)\n",
    "\n",
    "xgb_model = XGBRegressor()\n",
    "parameters = {\n",
    "    'max_depth': [3,4,5,6,7,10],\n",
    "    'learning_rate': [0.01, 0.05, 0.1, 0.2, 0.3],\n",
    "    'n_estimators': [100,300,500,700,900,1000],\n",
    "    'colsample_bytree': [0.3, 0.5, 0.7]\n",
    "}\n",
    "\n",
    "grid_search = GridSearchCV(estimator=xgb_model, cv=cv_split, param_grid=parameters)\n",
    "grid_search.fit(X_train, y_train)"
   ]
  },
  {
   "cell_type": "code",
   "execution_count": 23,
   "id": "ce54a14e",
   "metadata": {
    "execution": {
     "iopub.execute_input": "2024-08-31T15:39:02.518790Z",
     "iopub.status.busy": "2024-08-31T15:39:02.517927Z",
     "iopub.status.idle": "2024-08-31T15:39:03.090163Z",
     "shell.execute_reply": "2024-08-31T15:39:03.089050Z"
    },
    "papermill": {
     "duration": 0.597869,
     "end_time": "2024-08-31T15:39:03.094364",
     "exception": false,
     "start_time": "2024-08-31T15:39:02.496495",
     "status": "completed"
    },
    "tags": []
   },
   "outputs": [
    {
     "data": {
      "image/png": "[encoded data removed]",
      "text/plain": [
       "<Figure size 1000x500 with 1 Axes>"
      ]
     },
     "metadata": {},
     "output_type": "display_data"
    },
    {
     "name": "stdout",
     "output_type": "stream",
     "text": [
      "MAE: 0.7453189271255004\n",
      "MAPE: 0.1959089667428385\n",
      "MSE: 1.4247254065642283\n"
     ]
    }
   ],
   "source": [
    "prediction = grid_search.predict(X_test)\n",
    "plot_predictions(testing_dates, y_test, prediction)\n",
    "evaluate_model(y_test, prediction)"
   ]
  },
  {
   "cell_type": "code",
   "execution_count": 24,
   "id": "76fc31e0",
   "metadata": {
    "execution": {
     "iopub.execute_input": "2024-08-31T15:39:03.138843Z",
     "iopub.status.busy": "2024-08-31T15:39:03.138473Z",
     "iopub.status.idle": "2024-08-31T15:39:03.143043Z",
     "shell.execute_reply": "2024-08-31T15:39:03.142017Z"
    },
    "papermill": {
     "duration": 0.028554,
     "end_time": "2024-08-31T15:39:03.145242",
     "exception": false,
     "start_time": "2024-08-31T15:39:03.116688",
     "status": "completed"
    },
    "tags": []
   },
   "outputs": [],
   "source": [
    "# cv_split = TimeSeriesSplit(n_splits=4, test_size=100)\n",
    "\n",
    "# lgbm_model = LGBMRegressor()\n",
    "# parameters = {\n",
    "#     'max_depth': [3,4,5,6,7,10],\n",
    "#     'learning_rate': [0.01, 0.05, 0.1, 0.2, 0.3],\n",
    "#     'n_estimators': [100,300,500,700,900,1000],\n",
    "#     'colsample_bytree': [0.3, 0.5, 0.7]\n",
    "# }\n",
    "\n",
    "# grid_search = GridSearchCV(estimator=lgbm_model, cv=cv_split, param_grid=parameters)\n",
    "# grid_search.fit(X_train, y_train)"
   ]
  },
  {
   "cell_type": "code",
   "execution_count": 25,
   "id": "57924f5d",
   "metadata": {
    "execution": {
     "iopub.execute_input": "2024-08-31T15:39:03.182889Z",
     "iopub.status.busy": "2024-08-31T15:39:03.182588Z",
     "iopub.status.idle": "2024-08-31T15:39:03.186431Z",
     "shell.execute_reply": "2024-08-31T15:39:03.185542Z"
    },
    "papermill": {
     "duration": 0.023588,
     "end_time": "2024-08-31T15:39:03.188304",
     "exception": false,
     "start_time": "2024-08-31T15:39:03.164716",
     "status": "completed"
    },
    "tags": []
   },
   "outputs": [],
   "source": [
    "# prediction = grid_search.predict(X_test)\n",
    "# plot_prediction(testing_dates, y_test, prediction)\n",
    "# evaluate_model(y_test, prediction)"
   ]
  },
  {
   "cell_type": "code",
   "execution_count": 26,
   "id": "69586b46",
   "metadata": {
    "execution": {
     "iopub.execute_input": "2024-08-31T15:39:03.223705Z",
     "iopub.status.busy": "2024-08-31T15:39:03.223407Z",
     "iopub.status.idle": "2024-08-31T15:39:03.270796Z",
     "shell.execute_reply": "2024-08-31T15:39:03.269897Z"
    },
    "papermill": {
     "duration": 0.067429,
     "end_time": "2024-08-31T15:39:03.272848",
     "exception": false,
     "start_time": "2024-08-31T15:39:03.205419",
     "status": "completed"
    },
    "tags": []
   },
   "outputs": [
    {
     "data": {
      "text/html": [
       "<div>\n",
       "<style scoped>\n",
       "    .dataframe tbody tr th:only-of-type {\n",
       "        vertical-align: middle;\n",
       "    }\n",
       "\n",
       "    .dataframe tbody tr th {\n",
       "        vertical-align: top;\n",
       "    }\n",
       "\n",
       "    .dataframe thead th {\n",
       "        text-align: right;\n",
       "    }\n",
       "</style>\n",
       "<table border=\"1\" class=\"dataframe\">\n",
       "  <thead>\n",
       "    <tr style=\"text-align: right;\">\n",
       "      <th></th>\n",
       "      <th>date</th>\n",
       "      <th>cloud_cover</th>\n",
       "      <th>sunshine</th>\n",
       "      <th>global_radiation</th>\n",
       "      <th>max_temp</th>\n",
       "      <th>mean_temp</th>\n",
       "      <th>min_temp</th>\n",
       "      <th>precipitation</th>\n",
       "      <th>pressure</th>\n",
       "      <th>snow_depth</th>\n",
       "    </tr>\n",
       "  </thead>\n",
       "  <tbody>\n",
       "    <tr>\n",
       "      <th>0</th>\n",
       "      <td>19790101</td>\n",
       "      <td>2.0</td>\n",
       "      <td>7.0</td>\n",
       "      <td>52.0</td>\n",
       "      <td>2.3</td>\n",
       "      <td>-4.1</td>\n",
       "      <td>-7.5</td>\n",
       "      <td>0.4</td>\n",
       "      <td>101900.0</td>\n",
       "      <td>9.0</td>\n",
       "    </tr>\n",
       "    <tr>\n",
       "      <th>1</th>\n",
       "      <td>19790102</td>\n",
       "      <td>6.0</td>\n",
       "      <td>1.7</td>\n",
       "      <td>27.0</td>\n",
       "      <td>1.6</td>\n",
       "      <td>-2.6</td>\n",
       "      <td>-7.5</td>\n",
       "      <td>0.0</td>\n",
       "      <td>102530.0</td>\n",
       "      <td>8.0</td>\n",
       "    </tr>\n",
       "    <tr>\n",
       "      <th>2</th>\n",
       "      <td>19790103</td>\n",
       "      <td>5.0</td>\n",
       "      <td>0.0</td>\n",
       "      <td>13.0</td>\n",
       "      <td>1.3</td>\n",
       "      <td>-2.8</td>\n",
       "      <td>-7.2</td>\n",
       "      <td>0.0</td>\n",
       "      <td>102050.0</td>\n",
       "      <td>4.0</td>\n",
       "    </tr>\n",
       "  </tbody>\n",
       "</table>\n",
       "</div>"
      ],
      "text/plain": [
       "       date  cloud_cover  sunshine  global_radiation  max_temp  mean_temp  \\\n",
       "0  19790101          2.0       7.0              52.0       2.3       -4.1   \n",
       "1  19790102          6.0       1.7              27.0       1.6       -2.6   \n",
       "2  19790103          5.0       0.0              13.0       1.3       -2.8   \n",
       "\n",
       "   min_temp  precipitation  pressure  snow_depth  \n",
       "0      -7.5            0.4  101900.0         9.0  \n",
       "1      -7.5            0.0  102530.0         8.0  \n",
       "2      -7.2            0.0  102050.0         4.0  "
      ]
     },
     "execution_count": 26,
     "metadata": {},
     "output_type": "execute_result"
    }
   ],
   "source": [
    "df_weather = pd.read_csv('/kaggle/input/london-weather/london_weather.csv')\n",
    "df_weather.head(3)"
   ]
  },
  {
   "cell_type": "code",
   "execution_count": 27,
   "id": "6e95dd7e",
   "metadata": {
    "execution": {
     "iopub.execute_input": "2024-08-31T15:39:03.310691Z",
     "iopub.status.busy": "2024-08-31T15:39:03.310332Z",
     "iopub.status.idle": "2024-08-31T15:39:03.321121Z",
     "shell.execute_reply": "2024-08-31T15:39:03.320286Z"
    },
    "papermill": {
     "duration": 0.032655,
     "end_time": "2024-08-31T15:39:03.322970",
     "exception": false,
     "start_time": "2024-08-31T15:39:03.290315",
     "status": "completed"
    },
    "tags": []
   },
   "outputs": [
    {
     "name": "stdout",
     "output_type": "stream",
     "text": [
      "<class 'pandas.core.frame.DataFrame'>\n",
      "RangeIndex: 15341 entries, 0 to 15340\n",
      "Data columns (total 10 columns):\n",
      " #   Column            Non-Null Count  Dtype  \n",
      "---  ------            --------------  -----  \n",
      " 0   date              15341 non-null  int64  \n",
      " 1   cloud_cover       15322 non-null  float64\n",
      " 2   sunshine          15341 non-null  float64\n",
      " 3   global_radiation  15322 non-null  float64\n",
      " 4   max_temp          15335 non-null  float64\n",
      " 5   mean_temp         15305 non-null  float64\n",
      " 6   min_temp          15339 non-null  float64\n",
      " 7   precipitation     15335 non-null  float64\n",
      " 8   pressure          15337 non-null  float64\n",
      " 9   snow_depth        13900 non-null  float64\n",
      "dtypes: float64(9), int64(1)\n",
      "memory usage: 1.2 MB\n"
     ]
    }
   ],
   "source": [
    "df_weather.info()"
   ]
  },
  {
   "cell_type": "code",
   "execution_count": 28,
   "id": "d302b4f7",
   "metadata": {
    "execution": {
     "iopub.execute_input": "2024-08-31T15:39:03.359497Z",
     "iopub.status.busy": "2024-08-31T15:39:03.359171Z",
     "iopub.status.idle": "2024-08-31T15:39:03.367268Z",
     "shell.execute_reply": "2024-08-31T15:39:03.366389Z"
    },
    "papermill": {
     "duration": 0.028698,
     "end_time": "2024-08-31T15:39:03.369309",
     "exception": false,
     "start_time": "2024-08-31T15:39:03.340611",
     "status": "completed"
    },
    "tags": []
   },
   "outputs": [
    {
     "data": {
      "text/plain": [
       "date                   0\n",
       "cloud_cover           19\n",
       "sunshine               0\n",
       "global_radiation      19\n",
       "max_temp               6\n",
       "mean_temp             36\n",
       "min_temp               2\n",
       "precipitation          6\n",
       "pressure               4\n",
       "snow_depth          1441\n",
       "dtype: int64"
      ]
     },
     "execution_count": 28,
     "metadata": {},
     "output_type": "execute_result"
    }
   ],
   "source": [
    "df_weather.isna().sum()"
   ]
  },
  {
   "cell_type": "code",
   "execution_count": 29,
   "id": "e33cb972",
   "metadata": {
    "execution": {
     "iopub.execute_input": "2024-08-31T15:39:03.406678Z",
     "iopub.status.busy": "2024-08-31T15:39:03.406164Z",
     "iopub.status.idle": "2024-08-31T15:39:03.415564Z",
     "shell.execute_reply": "2024-08-31T15:39:03.414751Z"
    },
    "papermill": {
     "duration": 0.029758,
     "end_time": "2024-08-31T15:39:03.417430",
     "exception": false,
     "start_time": "2024-08-31T15:39:03.387672",
     "status": "completed"
    },
    "tags": []
   },
   "outputs": [
    {
     "data": {
      "text/plain": [
       "date                0\n",
       "cloud_cover         0\n",
       "sunshine            0\n",
       "global_radiation    0\n",
       "max_temp            0\n",
       "mean_temp           0\n",
       "min_temp            0\n",
       "precipitation       0\n",
       "pressure            0\n",
       "snow_depth          0\n",
       "dtype: int64"
      ]
     },
     "execution_count": 29,
     "metadata": {},
     "output_type": "execute_result"
    }
   ],
   "source": [
    "df_weather = df_weather.ffill()\n",
    "df_weather.isna().sum()"
   ]
  },
  {
   "cell_type": "code",
   "execution_count": 30,
   "id": "9dec202b",
   "metadata": {
    "execution": {
     "iopub.execute_input": "2024-08-31T15:39:03.454091Z",
     "iopub.status.busy": "2024-08-31T15:39:03.453536Z",
     "iopub.status.idle": "2024-08-31T15:39:03.503261Z",
     "shell.execute_reply": "2024-08-31T15:39:03.502386Z"
    },
    "papermill": {
     "duration": 0.069921,
     "end_time": "2024-08-31T15:39:03.505033",
     "exception": false,
     "start_time": "2024-08-31T15:39:03.435112",
     "status": "completed"
    },
    "tags": []
   },
   "outputs": [
    {
     "data": {
      "text/html": [
       "<div>\n",
       "<style scoped>\n",
       "    .dataframe tbody tr th:only-of-type {\n",
       "        vertical-align: middle;\n",
       "    }\n",
       "\n",
       "    .dataframe tbody tr th {\n",
       "        vertical-align: top;\n",
       "    }\n",
       "\n",
       "    .dataframe thead th {\n",
       "        text-align: right;\n",
       "    }\n",
       "</style>\n",
       "<table border=\"1\" class=\"dataframe\">\n",
       "  <thead>\n",
       "    <tr style=\"text-align: right;\">\n",
       "      <th></th>\n",
       "      <th>date</th>\n",
       "      <th>consumption</th>\n",
       "      <th>day_of_week</th>\n",
       "      <th>day_of_year</th>\n",
       "      <th>month</th>\n",
       "      <th>quarter</th>\n",
       "      <th>year</th>\n",
       "      <th>day_of_week_sin</th>\n",
       "      <th>day_of_week_cos</th>\n",
       "      <th>day_of_year_sin</th>\n",
       "      <th>...</th>\n",
       "      <th>quarter_cos</th>\n",
       "      <th>cloud_cover</th>\n",
       "      <th>sunshine</th>\n",
       "      <th>global_radiation</th>\n",
       "      <th>max_temp</th>\n",
       "      <th>mean_temp</th>\n",
       "      <th>min_temp</th>\n",
       "      <th>precipitation</th>\n",
       "      <th>pressure</th>\n",
       "      <th>snow_depth</th>\n",
       "    </tr>\n",
       "  </thead>\n",
       "  <tbody>\n",
       "    <tr>\n",
       "      <th>0</th>\n",
       "      <td>2011-11-23</td>\n",
       "      <td>6.952692</td>\n",
       "      <td>2</td>\n",
       "      <td>327</td>\n",
       "      <td>11</td>\n",
       "      <td>4</td>\n",
       "      <td>2011</td>\n",
       "      <td>0.974928</td>\n",
       "      <td>-0.222521</td>\n",
       "      <td>-0.608477</td>\n",
       "      <td>...</td>\n",
       "      <td>1.000000e+00</td>\n",
       "      <td>7.0</td>\n",
       "      <td>2.0</td>\n",
       "      <td>35.0</td>\n",
       "      <td>13.5</td>\n",
       "      <td>6.8</td>\n",
       "      <td>2.6</td>\n",
       "      <td>0.2</td>\n",
       "      <td>102720.0</td>\n",
       "      <td>0.0</td>\n",
       "    </tr>\n",
       "    <tr>\n",
       "      <th>1</th>\n",
       "      <td>2011-11-24</td>\n",
       "      <td>8.536480</td>\n",
       "      <td>3</td>\n",
       "      <td>328</td>\n",
       "      <td>11</td>\n",
       "      <td>4</td>\n",
       "      <td>2011</td>\n",
       "      <td>0.433884</td>\n",
       "      <td>-0.900969</td>\n",
       "      <td>-0.594727</td>\n",
       "      <td>...</td>\n",
       "      <td>1.000000e+00</td>\n",
       "      <td>3.0</td>\n",
       "      <td>2.0</td>\n",
       "      <td>35.0</td>\n",
       "      <td>12.5</td>\n",
       "      <td>8.6</td>\n",
       "      <td>3.7</td>\n",
       "      <td>0.2</td>\n",
       "      <td>102710.0</td>\n",
       "      <td>0.0</td>\n",
       "    </tr>\n",
       "    <tr>\n",
       "      <th>2</th>\n",
       "      <td>2011-11-25</td>\n",
       "      <td>9.499781</td>\n",
       "      <td>4</td>\n",
       "      <td>329</td>\n",
       "      <td>11</td>\n",
       "      <td>4</td>\n",
       "      <td>2011</td>\n",
       "      <td>-0.433884</td>\n",
       "      <td>-0.900969</td>\n",
       "      <td>-0.580800</td>\n",
       "      <td>...</td>\n",
       "      <td>1.000000e+00</td>\n",
       "      <td>3.0</td>\n",
       "      <td>5.0</td>\n",
       "      <td>52.0</td>\n",
       "      <td>14.0</td>\n",
       "      <td>11.0</td>\n",
       "      <td>9.5</td>\n",
       "      <td>0.0</td>\n",
       "      <td>102450.0</td>\n",
       "      <td>0.0</td>\n",
       "    </tr>\n",
       "    <tr>\n",
       "      <th>3</th>\n",
       "      <td>2011-11-26</td>\n",
       "      <td>10.267707</td>\n",
       "      <td>5</td>\n",
       "      <td>330</td>\n",
       "      <td>11</td>\n",
       "      <td>4</td>\n",
       "      <td>2011</td>\n",
       "      <td>-0.974928</td>\n",
       "      <td>-0.222521</td>\n",
       "      <td>-0.566702</td>\n",
       "      <td>...</td>\n",
       "      <td>1.000000e+00</td>\n",
       "      <td>4.0</td>\n",
       "      <td>0.7</td>\n",
       "      <td>24.0</td>\n",
       "      <td>13.9</td>\n",
       "      <td>10.2</td>\n",
       "      <td>6.3</td>\n",
       "      <td>0.0</td>\n",
       "      <td>102580.0</td>\n",
       "      <td>0.0</td>\n",
       "    </tr>\n",
       "    <tr>\n",
       "      <th>4</th>\n",
       "      <td>2011-11-27</td>\n",
       "      <td>10.850805</td>\n",
       "      <td>6</td>\n",
       "      <td>331</td>\n",
       "      <td>11</td>\n",
       "      <td>4</td>\n",
       "      <td>2011</td>\n",
       "      <td>-0.781831</td>\n",
       "      <td>0.623490</td>\n",
       "      <td>-0.552435</td>\n",
       "      <td>...</td>\n",
       "      <td>1.000000e+00</td>\n",
       "      <td>3.0</td>\n",
       "      <td>5.9</td>\n",
       "      <td>55.0</td>\n",
       "      <td>13.2</td>\n",
       "      <td>11.8</td>\n",
       "      <td>9.7</td>\n",
       "      <td>0.0</td>\n",
       "      <td>102130.0</td>\n",
       "      <td>0.0</td>\n",
       "    </tr>\n",
       "    <tr>\n",
       "      <th>...</th>\n",
       "      <td>...</td>\n",
       "      <td>...</td>\n",
       "      <td>...</td>\n",
       "      <td>...</td>\n",
       "      <td>...</td>\n",
       "      <td>...</td>\n",
       "      <td>...</td>\n",
       "      <td>...</td>\n",
       "      <td>...</td>\n",
       "      <td>...</td>\n",
       "      <td>...</td>\n",
       "      <td>...</td>\n",
       "      <td>...</td>\n",
       "      <td>...</td>\n",
       "      <td>...</td>\n",
       "      <td>...</td>\n",
       "      <td>...</td>\n",
       "      <td>...</td>\n",
       "      <td>...</td>\n",
       "      <td>...</td>\n",
       "      <td>...</td>\n",
       "    </tr>\n",
       "    <tr>\n",
       "      <th>824</th>\n",
       "      <td>2014-02-24</td>\n",
       "      <td>10.411403</td>\n",
       "      <td>0</td>\n",
       "      <td>55</td>\n",
       "      <td>2</td>\n",
       "      <td>1</td>\n",
       "      <td>2014</td>\n",
       "      <td>0.000000</td>\n",
       "      <td>1.000000</td>\n",
       "      <td>0.811539</td>\n",
       "      <td>...</td>\n",
       "      <td>6.123234e-17</td>\n",
       "      <td>4.0</td>\n",
       "      <td>4.4</td>\n",
       "      <td>82.0</td>\n",
       "      <td>10.7</td>\n",
       "      <td>10.9</td>\n",
       "      <td>6.8</td>\n",
       "      <td>3.2</td>\n",
       "      <td>100500.0</td>\n",
       "      <td>0.0</td>\n",
       "    </tr>\n",
       "    <tr>\n",
       "      <th>825</th>\n",
       "      <td>2014-02-25</td>\n",
       "      <td>10.294997</td>\n",
       "      <td>1</td>\n",
       "      <td>56</td>\n",
       "      <td>2</td>\n",
       "      <td>1</td>\n",
       "      <td>2014</td>\n",
       "      <td>0.781831</td>\n",
       "      <td>0.623490</td>\n",
       "      <td>0.821477</td>\n",
       "      <td>...</td>\n",
       "      <td>6.123234e-17</td>\n",
       "      <td>5.0</td>\n",
       "      <td>2.0</td>\n",
       "      <td>60.0</td>\n",
       "      <td>11.8</td>\n",
       "      <td>9.4</td>\n",
       "      <td>8.1</td>\n",
       "      <td>2.6</td>\n",
       "      <td>100050.0</td>\n",
       "      <td>0.0</td>\n",
       "    </tr>\n",
       "    <tr>\n",
       "      <th>826</th>\n",
       "      <td>2014-02-26</td>\n",
       "      <td>10.202945</td>\n",
       "      <td>2</td>\n",
       "      <td>57</td>\n",
       "      <td>2</td>\n",
       "      <td>1</td>\n",
       "      <td>2014</td>\n",
       "      <td>0.974928</td>\n",
       "      <td>-0.222521</td>\n",
       "      <td>0.831171</td>\n",
       "      <td>...</td>\n",
       "      <td>6.123234e-17</td>\n",
       "      <td>1.0</td>\n",
       "      <td>7.7</td>\n",
       "      <td>111.0</td>\n",
       "      <td>12.0</td>\n",
       "      <td>7.4</td>\n",
       "      <td>2.9</td>\n",
       "      <td>2.8</td>\n",
       "      <td>101270.0</td>\n",
       "      <td>0.0</td>\n",
       "    </tr>\n",
       "    <tr>\n",
       "      <th>827</th>\n",
       "      <td>2014-02-27</td>\n",
       "      <td>10.356350</td>\n",
       "      <td>3</td>\n",
       "      <td>58</td>\n",
       "      <td>2</td>\n",
       "      <td>1</td>\n",
       "      <td>2014</td>\n",
       "      <td>0.433884</td>\n",
       "      <td>-0.900969</td>\n",
       "      <td>0.840618</td>\n",
       "      <td>...</td>\n",
       "      <td>6.123234e-17</td>\n",
       "      <td>4.0</td>\n",
       "      <td>4.9</td>\n",
       "      <td>90.0</td>\n",
       "      <td>8.4</td>\n",
       "      <td>8.9</td>\n",
       "      <td>5.7</td>\n",
       "      <td>4.8</td>\n",
       "      <td>100700.0</td>\n",
       "      <td>0.0</td>\n",
       "    </tr>\n",
       "    <tr>\n",
       "      <th>828</th>\n",
       "      <td>2014-02-28</td>\n",
       "      <td>0.417993</td>\n",
       "      <td>4</td>\n",
       "      <td>59</td>\n",
       "      <td>2</td>\n",
       "      <td>1</td>\n",
       "      <td>2014</td>\n",
       "      <td>-0.433884</td>\n",
       "      <td>-0.900969</td>\n",
       "      <td>0.849817</td>\n",
       "      <td>...</td>\n",
       "      <td>6.123234e-17</td>\n",
       "      <td>7.0</td>\n",
       "      <td>1.0</td>\n",
       "      <td>50.0</td>\n",
       "      <td>10.1</td>\n",
       "      <td>5.1</td>\n",
       "      <td>1.8</td>\n",
       "      <td>3.4</td>\n",
       "      <td>99890.0</td>\n",
       "      <td>0.0</td>\n",
       "    </tr>\n",
       "  </tbody>\n",
       "</table>\n",
       "<p>829 rows × 24 columns</p>\n",
       "</div>"
      ],
      "text/plain": [
       "          date  consumption  day_of_week  day_of_year  month  quarter  year  \\\n",
       "0   2011-11-23     6.952692            2          327     11        4  2011   \n",
       "1   2011-11-24     8.536480            3          328     11        4  2011   \n",
       "2   2011-11-25     9.499781            4          329     11        4  2011   \n",
       "3   2011-11-26    10.267707            5          330     11        4  2011   \n",
       "4   2011-11-27    10.850805            6          331     11        4  2011   \n",
       "..         ...          ...          ...          ...    ...      ...   ...   \n",
       "824 2014-02-24    10.411403            0           55      2        1  2014   \n",
       "825 2014-02-25    10.294997            1           56      2        1  2014   \n",
       "826 2014-02-26    10.202945            2           57      2        1  2014   \n",
       "827 2014-02-27    10.356350            3           58      2        1  2014   \n",
       "828 2014-02-28     0.417993            4           59      2        1  2014   \n",
       "\n",
       "     day_of_week_sin  day_of_week_cos  day_of_year_sin  ...   quarter_cos  \\\n",
       "0           0.974928        -0.222521        -0.608477  ...  1.000000e+00   \n",
       "1           0.433884        -0.900969        -0.594727  ...  1.000000e+00   \n",
       "2          -0.433884        -0.900969        -0.580800  ...  1.000000e+00   \n",
       "3          -0.974928        -0.222521        -0.566702  ...  1.000000e+00   \n",
       "4          -0.781831         0.623490        -0.552435  ...  1.000000e+00   \n",
       "..               ...              ...              ...  ...           ...   \n",
       "824         0.000000         1.000000         0.811539  ...  6.123234e-17   \n",
       "825         0.781831         0.623490         0.821477  ...  6.123234e-17   \n",
       "826         0.974928        -0.222521         0.831171  ...  6.123234e-17   \n",
       "827         0.433884        -0.900969         0.840618  ...  6.123234e-17   \n",
       "828        -0.433884        -0.900969         0.849817  ...  6.123234e-17   \n",
       "\n",
       "     cloud_cover  sunshine  global_radiation  max_temp  mean_temp  min_temp  \\\n",
       "0            7.0       2.0              35.0      13.5        6.8       2.6   \n",
       "1            3.0       2.0              35.0      12.5        8.6       3.7   \n",
       "2            3.0       5.0              52.0      14.0       11.0       9.5   \n",
       "3            4.0       0.7              24.0      13.9       10.2       6.3   \n",
       "4            3.0       5.9              55.0      13.2       11.8       9.7   \n",
       "..           ...       ...               ...       ...        ...       ...   \n",
       "824          4.0       4.4              82.0      10.7       10.9       6.8   \n",
       "825          5.0       2.0              60.0      11.8        9.4       8.1   \n",
       "826          1.0       7.7             111.0      12.0        7.4       2.9   \n",
       "827          4.0       4.9              90.0       8.4        8.9       5.7   \n",
       "828          7.0       1.0              50.0      10.1        5.1       1.8   \n",
       "\n",
       "     precipitation  pressure  snow_depth  \n",
       "0              0.2  102720.0         0.0  \n",
       "1              0.2  102710.0         0.0  \n",
       "2              0.0  102450.0         0.0  \n",
       "3              0.0  102580.0         0.0  \n",
       "4              0.0  102130.0         0.0  \n",
       "..             ...       ...         ...  \n",
       "824            3.2  100500.0         0.0  \n",
       "825            2.6  100050.0         0.0  \n",
       "826            2.8  101270.0         0.0  \n",
       "827            4.8  100700.0         0.0  \n",
       "828            3.4   99890.0         0.0  \n",
       "\n",
       "[829 rows x 24 columns]"
      ]
     },
     "execution_count": 30,
     "metadata": {},
     "output_type": "execute_result"
    }
   ],
   "source": [
    "df_weather['date'] = pd.to_datetime(df_weather['date'], format='%Y%m%d')\n",
    "df_avg_consumption = df_avg_consumption.merge(df_weather, how='inner', on='date')\n",
    "df_avg_consumption"
   ]
  },
  {
   "cell_type": "code",
   "execution_count": 31,
   "id": "9044aa02",
   "metadata": {
    "execution": {
     "iopub.execute_input": "2024-08-31T15:39:03.542971Z",
     "iopub.status.busy": "2024-08-31T15:39:03.542192Z",
     "iopub.status.idle": "2024-08-31T15:39:03.550682Z",
     "shell.execute_reply": "2024-08-31T15:39:03.549789Z"
    },
    "papermill": {
     "duration": 0.029269,
     "end_time": "2024-08-31T15:39:03.552535",
     "exception": false,
     "start_time": "2024-08-31T15:39:03.523266",
     "status": "completed"
    },
    "tags": []
   },
   "outputs": [
    {
     "data": {
      "text/plain": [
       "((613, 24), (216, 24))"
      ]
     },
     "execution_count": 31,
     "metadata": {},
     "output_type": "execute_result"
    }
   ],
   "source": [
    "training_mask = df_avg_consumption[\"date\"] < \"2013-07-28\"\n",
    "training_data = df_avg_consumption.loc[training_mask]\n",
    "\n",
    "testing_mask = df_avg_consumption[\"date\"] >= \"2013-07-28\"\n",
    "testing_data = df_avg_consumption.loc[testing_mask]\n",
    "\n",
    "training_data.shape, testing_data.shape"
   ]
  },
  {
   "cell_type": "code",
   "execution_count": 32,
   "id": "2741a74e",
   "metadata": {
    "execution": {
     "iopub.execute_input": "2024-08-31T15:39:03.590152Z",
     "iopub.status.busy": "2024-08-31T15:39:03.589676Z",
     "iopub.status.idle": "2024-08-31T15:39:03.599927Z",
     "shell.execute_reply": "2024-08-31T15:39:03.599210Z"
    },
    "papermill": {
     "duration": 0.031204,
     "end_time": "2024-08-31T15:39:03.601791",
     "exception": false,
     "start_time": "2024-08-31T15:39:03.570587",
     "status": "completed"
    },
    "tags": []
   },
   "outputs": [],
   "source": [
    "training_data = training_data.drop(columns=[\"date\"])\n",
    "testing_dates = testing_data[\"date\"]\n",
    "testing_data = testing_data.drop(columns=[\"date\"])\n",
    "\n",
    "# Memperbarui X_train dan X_test dengan fitur sin-cos dan variabel cuaca lainnya\n",
    "X_train = training_data[\n",
    "    [\n",
    "        'day_of_week_sin', 'day_of_week_cos',\n",
    "        'day_of_year_sin', 'day_of_year_cos',\n",
    "        'month_sin', 'month_cos',\n",
    "        'quarter_sin', 'quarter_cos',\n",
    "        'year',  # Tetap menyertakan tahun untuk tren jangka panjang\n",
    "        'cloud_cover', 'sunshine', 'global_radiation', 'max_temp',\n",
    "        'mean_temp', 'min_temp', 'precipitation', 'pressure',\n",
    "        'snow_depth'\n",
    "    ]\n",
    "]\n",
    "y_train = training_data['consumption']\n",
    "\n",
    "X_test = testing_data[\n",
    "    [\n",
    "        'day_of_week_sin', 'day_of_week_cos',\n",
    "        'day_of_year_sin', 'day_of_year_cos',\n",
    "        'month_sin', 'month_cos',\n",
    "        'quarter_sin', 'quarter_cos',\n",
    "        'year',\n",
    "        'cloud_cover', 'sunshine', 'global_radiation', 'max_temp',\n",
    "        'mean_temp', 'min_temp', 'precipitation', 'pressure',\n",
    "        'snow_depth'\n",
    "    ]\n",
    "]\n",
    "y_test = testing_data['consumption']"
   ]
  },
  {
   "cell_type": "code",
   "execution_count": 33,
   "id": "325987be",
   "metadata": {
    "execution": {
     "iopub.execute_input": "2024-08-31T15:39:03.639399Z",
     "iopub.status.busy": "2024-08-31T15:39:03.639085Z",
     "iopub.status.idle": "2024-08-31T15:51:01.433039Z",
     "shell.execute_reply": "2024-08-31T15:51:01.432179Z"
    },
    "papermill": {
     "duration": 717.83608,
     "end_time": "2024-08-31T15:51:01.456077",
     "exception": false,
     "start_time": "2024-08-31T15:39:03.619997",
     "status": "completed"
    },
    "tags": []
   },
   "outputs": [
    {
     "name": "stdout",
     "output_type": "stream",
     "text": [
      "Best parameters: {'colsample_bytree': 0.3, 'learning_rate': 0.01, 'max_depth': 4, 'n_estimators': 1000}\n",
      "Best score: 0.3681375081215882\n"
     ]
    }
   ],
   "source": [
    "xgb_model = XGBRegressor()\n",
    "parameters = {\n",
    "    'max_depth': [3,4,5,6,7,10],\n",
    "    'learning_rate': [0.01, 0.05, 0.1, 0.2, 0.3],\n",
    "    'n_estimators': [100,300,500,700,900,1000],\n",
    "    'colsample_bytree': [0.3, 0.5, 0.7]\n",
    "}\n",
    "\n",
    "grid_search = GridSearchCV(estimator=xgb_model, cv=cv_split, param_grid=parameters)\n",
    "grid_search.fit(X_train, y_train)\n",
    "\n",
    "# Menampilkan hasil terbaik\n",
    "print(f\"Best parameters: {grid_search.best_params_}\")\n",
    "print(f\"Best score: {grid_search.best_score_}\")"
   ]
  },
  {
   "cell_type": "code",
   "execution_count": 34,
   "id": "d46c573c",
   "metadata": {
    "execution": {
     "iopub.execute_input": "2024-08-31T15:51:01.494578Z",
     "iopub.status.busy": "2024-08-31T15:51:01.493820Z",
     "iopub.status.idle": "2024-08-31T15:51:02.042500Z",
     "shell.execute_reply": "2024-08-31T15:51:02.041569Z"
    },
    "papermill": {
     "duration": 0.57085,
     "end_time": "2024-08-31T15:51:02.045473",
     "exception": false,
     "start_time": "2024-08-31T15:51:01.474623",
     "status": "completed"
    },
    "tags": []
   },
   "outputs": [
    {
     "data": {
      "image/png": "[encoded data removed]",
      "text/plain": [
       "<Figure size 1000x500 with 1 Axes>"
      ]
     },
     "metadata": {},
     "output_type": "display_data"
    },
    {
     "name": "stdout",
     "output_type": "stream",
     "text": [
      "MAE: 0.44123818524317965\n",
      "MAPE: 0.1644001320544813\n",
      "MSE: 0.864698398183634\n"
     ]
    }
   ],
   "source": [
    "prediction = grid_search.predict(X_test)\n",
    "plot_predictions(testing_dates, y_test, prediction)\n",
    "evaluate_model(y_test, prediction)"
   ]
  },
  {
   "cell_type": "code",
   "execution_count": 35,
   "id": "90d15e03",
   "metadata": {
    "execution": {
     "iopub.execute_input": "2024-08-31T15:51:02.086135Z",
     "iopub.status.busy": "2024-08-31T15:51:02.085805Z",
     "iopub.status.idle": "2024-08-31T15:51:02.471477Z",
     "shell.execute_reply": "2024-08-31T15:51:02.470415Z"
    },
    "papermill": {
     "duration": 0.40826,
     "end_time": "2024-08-31T15:51:02.473531",
     "exception": false,
     "start_time": "2024-08-31T15:51:02.065271",
     "status": "completed"
    },
    "tags": []
   },
   "outputs": [
    {
     "data": {
      "image/png": "[encoded data removed]",
      "text/plain": [
       "<Figure size 1000x600 with 1 Axes>"
      ]
     },
     "metadata": {},
     "output_type": "display_data"
    }
   ],
   "source": [
    "# Mendapatkan model terbaik dari grid search\n",
    "best_model = grid_search.best_estimator_\n",
    "feature_importance = best_model.feature_importances_\n",
    "feature = [\n",
    "    'day_of_week_sin', 'day_of_week_cos',  # Sin dan cos untuk hari dalam seminggu\n",
    "    'day_of_year_sin', 'day_of_year_cos',  # Sin dan cos untuk hari dalam setahun\n",
    "    'month_sin', 'month_cos',              # Sin dan cos untuk bulan\n",
    "    'quarter_sin', 'quarter_cos',          # Sin dan cos untuk kuartal\n",
    "    'year',                                # Tetap menyertakan tahun untuk tren\n",
    "    'cloud_cover', 'sunshine', 'global_radiation', 'max_temp', \n",
    "    'mean_temp', 'min_temp', 'precipitation', 'pressure',\n",
    "    'snow_depth'                           # Variabel cuaca\n",
    "]\n",
    "\n",
    "importance_df = pd.DataFrame({\n",
    "    'Features': feature,\n",
    "    'Importance': feature_importance\n",
    "})\n",
    "importance_df = importance_df.sort_values(by='Importance', ascending=False)\n",
    "\n",
    "plt.figure(figsize=(10,6))\n",
    "sns.barplot(x='Importance', y='Features', data=importance_df, palette='viridis')\n",
    "plt.title('Feature Importance')\n",
    "plt.xlabel('Importance Score')\n",
    "plt.ylabel('Features')\n",
    "plt.show()"
   ]
  },
  {
   "cell_type": "code",
   "execution_count": 36,
   "id": "d2f6748b",
   "metadata": {
    "execution": {
     "iopub.execute_input": "2024-08-31T15:51:02.522410Z",
     "iopub.status.busy": "2024-08-31T15:51:02.521928Z",
     "iopub.status.idle": "2024-08-31T15:51:02.526310Z",
     "shell.execute_reply": "2024-08-31T15:51:02.525471Z"
    },
    "papermill": {
     "duration": 0.034377,
     "end_time": "2024-08-31T15:51:02.529198",
     "exception": false,
     "start_time": "2024-08-31T15:51:02.494821",
     "status": "completed"
    },
    "tags": []
   },
   "outputs": [],
   "source": [
    "### Before SinCos\n",
    "# MAE: 0.41222399123657294\n",
    "# MAPE: 0.16246850639888177\n",
    "# MSE: 0.8432288584575132\n",
    "\n",
    "### After SinCos\n",
    "# MAE: 0.44123818524317965\n",
    "# MAPE: 0.1644001320544813\n",
    "# MSE: 0.864698398183634"
   ]
  },
  {
   "cell_type": "markdown",
   "id": "43421a89",
   "metadata": {
    "papermill": {
     "duration": 0.026521,
     "end_time": "2024-08-31T15:51:02.582581",
     "exception": false,
     "start_time": "2024-08-31T15:51:02.556060",
     "status": "completed"
    },
    "tags": []
   },
   "source": [
    "## Part II"
   ]
  }
 ],
 "metadata": {
  "kaggle": {
   "accelerator": "nvidiaTeslaT4",
   "dataSources": [
    {
     "datasetId": 2185669,
     "sourceId": 3650154,
     "sourceType": "datasetVersion"
    },
    {
     "datasetId": 5622824,
     "sourceId": 9288395,
     "sourceType": "datasetVersion"
    }
   ],
   "dockerImageVersionId": 30761,
   "isGpuEnabled": true,
   "isInternetEnabled": true,
   "language": "python",
   "sourceType": "notebook"
  },
  "kernelspec": {
   "display_name": "Python 3",
   "language": "python",
   "name": "python3"
  },
  "language_info": {
   "codemirror_mode": {
    "name": "ipython",
    "version": 3
   },
   "file_extension": ".py",
   "mimetype": "text/x-python",
   "name": "python",
   "nbconvert_exporter": "python",
   "pygments_lexer": "ipython3",
   "version": "3.10.14"
  },
  "papermill": {
   "default_parameters": {},
   "duration": 1278.03923,
   "end_time": "2024-08-31T15:51:03.322748",
   "environment_variables": {},
   "exception": null,
   "input_path": "__notebook__.ipynb",
   "output_path": "__notebook__.ipynb",
   "parameters": {},
   "start_time": "2024-08-31T15:29:45.283518",
   "version": "2.6.0"
  }
 },
 "nbformat": 4,
 "nbformat_minor": 5
}
